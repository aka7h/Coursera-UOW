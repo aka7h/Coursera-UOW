{
 "cells": [
  {
   "cell_type": "markdown",
   "metadata": {},
   "source": [
    "# Regression Week 1 : Simple Linear Regression\n",
    "\n"
   ]
  },
  {
   "cell_type": "markdown",
   "metadata": {},
   "source": [
    "In this notebook we will use data on house sales in King County to predict house prices using simple (one input) linear regression"
   ]
  },
  {
   "cell_type": "code",
   "execution_count": 1,
   "metadata": {
    "collapsed": false
   },
   "outputs": [],
   "source": [
    "train <- read.csv('kc_house_train_data.csv', header=TRUE)\n",
    "test <- read.csv('kc_house_test_data.csv', header=TRUE)"
   ]
  },
  {
   "cell_type": "markdown",
   "metadata": {},
   "source": [
    "## Building a Generic Simple regression"
   ]
  },
  {
   "cell_type": "code",
   "execution_count": 2,
   "metadata": {
    "collapsed": false
   },
   "outputs": [],
   "source": [
    "simple_linear_regression <- function(input_feature,output){\n",
    "    x = input_feature\n",
    "    y = output\n",
    "    #mean of input and output\n",
    "    mean_x = mean(x)\n",
    "    mean_y = mean(y)\n",
    "    #mean of product of input and output\n",
    "    mean_xy = mean(x*y)\n",
    "    #mean of x^2\n",
    "    mean_xx = mean(x^2)\n",
    "    #num/denominator\n",
    "    numerator = (mean_xy - mean_x*mean_y)\n",
    "    denominator = (mean_xx - mean_x*mean_x)\n",
    "    #finding the slope\n",
    "    slope = numerator/denominator\n",
    "    #finding the intercept\n",
    "    intercept = mean_y - (slope*mean_x)\n",
    "    final <-list(\"intercept\"=intercept,'slope'=slope)\n",
    "    return(final)\n",
    "}"
   ]
  },
  {
   "cell_type": "markdown",
   "metadata": {},
   "source": [
    "We can test that our function works by passing it something where we know the answer. In particular we can generate a feature and then put the output exactly on a line: output = 1 + 1\\*input_feature then we know both our slope and intercept should be 1"
   ]
  },
  {
   "cell_type": "code",
   "execution_count": 3,
   "metadata": {
    "collapsed": false
   },
   "outputs": [
    {
     "data": {
      "text/html": [
       "<span style=white-space:pre-wrap>'Intercept: 1  and Slope: 1'</span>"
      ],
      "text/latex": [
       "'Intercept: 1  and Slope: 1'"
      ],
      "text/markdown": [
       "<span style=white-space:pre-wrap>'Intercept: 1  and Slope: 1'</span>"
      ],
      "text/plain": [
       "[1] \"Intercept: 1  and Slope: 1\""
      ]
     },
     "metadata": {},
     "output_type": "display_data"
    }
   ],
   "source": [
    "test_feature <- 1:5\n",
    "test_output <- (1+1*test_feature)\n",
    "test_ <- simple_linear_regression(test_feature,test_output)\n",
    "test_intercept <- test_$intercept\n",
    "test_slope <- test_$slope\n",
    "paste('Intercept:',test_$intercept,' and Slope:',test_$slope)"
   ]
  },
  {
   "cell_type": "code",
   "execution_count": 4,
   "metadata": {
    "collapsed": false
   },
   "outputs": [
    {
     "data": {
      "text/html": [
       "<span style=white-space:pre-wrap>'Intercept: -47116.0790728949  and Slope: 281.958839630343'</span>"
      ],
      "text/latex": [
       "'Intercept: -47116.0790728949  and Slope: 281.958839630343'"
      ],
      "text/markdown": [
       "<span style=white-space:pre-wrap>'Intercept: -47116.0790728949  and Slope: 281.958839630343'</span>"
      ],
      "text/plain": [
       "[1] \"Intercept: -47116.0790728949  and Slope: 281.958839630343\""
      ]
     },
     "metadata": {},
     "output_type": "display_data"
    }
   ],
   "source": [
    "final_ <- simple_linear_regression(train$sqft_living, train$price)\n",
    "paste('Intercept:',final_$intercept,' and Slope:',final_$slope)"
   ]
  },
  {
   "cell_type": "code",
   "execution_count": 5,
   "metadata": {
    "collapsed": false
   },
   "outputs": [],
   "source": [
    "actual_intercept = final_$intercept\n",
    "actual_slope = final_$slope"
   ]
  },
  {
   "cell_type": "markdown",
   "metadata": {},
   "source": [
    "## Predicting Values"
   ]
  },
  {
   "cell_type": "markdown",
   "metadata": {},
   "source": [
    "Now that we have the model parameters: intercept & slope we can make predictions. Using SArrays it's easy to multiply an SArray by a constant and add a constant value. Complete the following function to return the predicted output given the input_feature, slope and intercept:"
   ]
  },
  {
   "cell_type": "code",
   "execution_count": 6,
   "metadata": {
    "collapsed": false
   },
   "outputs": [],
   "source": [
    "get_regression_prediction <- function(input_feature, intercept, slope){\n",
    "    output <- (intercept+slope*input_feature)\n",
    "    return(output)\n",
    "}"
   ]
  },
  {
   "cell_type": "markdown",
   "metadata": {},
   "source": [
    "Now that we can calculate a prediction given the slope and intercept let's make a prediction. Use (or alter) the following to find out the estimated price for a house with 2650 squarefeet according to the squarefeet model we estiamted above.\n",
    "\n",
    "**Quiz Question: Using your Slope and Intercept from (4), What is the predicted price for a house with 2650 sqft?**"
   ]
  },
  {
   "cell_type": "code",
   "execution_count": 7,
   "metadata": {
    "collapsed": false
   },
   "outputs": [
    {
     "data": {
      "text/html": [
       "<span style=white-space:pre-wrap>'The predicted price for house with 2650 sqrt is  700074.845947514'</span>"
      ],
      "text/latex": [
       "'The predicted price for house with 2650 sqrt is  700074.845947514'"
      ],
      "text/markdown": [
       "<span style=white-space:pre-wrap>'The predicted price for house with 2650 sqrt is  700074.845947514'</span>"
      ],
      "text/plain": [
       "[1] \"The predicted price for house with 2650 sqrt is  700074.845947514\""
      ]
     },
     "metadata": {},
     "output_type": "display_data"
    }
   ],
   "source": [
    "house_sqrt = 2650\n",
    "estimated <- get_regression_prediction(house_sqrt,actual_intercept,actual_slope)\n",
    "paste('The predicted price for house with 2650 sqrt is ',estimated)"
   ]
  },
  {
   "cell_type": "markdown",
   "metadata": {},
   "source": [
    "## Residual Sum of Squares\n",
    "Now that we have a model and can make predictions let's evaluate our model using Residual Sum of Squares (RSS). Recall that RSS is the sum of the squares of the residuals and the residuals is just a fancy word for the difference between the predicted output and the true output. \n",
    "\n",
    "Complete the following (or write your own) function to compute the RSS of a simple linear regression model given the input_feature, output, intercept and slope:"
   ]
  },
  {
   "cell_type": "code",
   "execution_count": 8,
   "metadata": {
    "collapsed": true
   },
   "outputs": [],
   "source": [
    "residual_sum_square <- function(input_feature,output,intercept,slope){\n",
    "    predicted <- (intercept+slope*input_feature)\n",
    "    #calculating the RSS\n",
    "    residual = output - predicted\n",
    "    RSS = sum(residual^2)\n",
    "    return(RSS)\n",
    "}"
   ]
  },
  {
   "cell_type": "code",
   "execution_count": 9,
   "metadata": {
    "collapsed": false
   },
   "outputs": [
    {
     "data": {
      "text/html": [
       "0"
      ],
      "text/latex": [
       "0"
      ],
      "text/markdown": [
       "0"
      ],
      "text/plain": [
       "[1] 0"
      ]
     },
     "metadata": {},
     "output_type": "display_data"
    }
   ],
   "source": [
    "#the RSS for test will be 0\n",
    "residual_sum_square(test_feature,test_output,test_intercept,test_slope)"
   ]
  },
  {
   "cell_type": "markdown",
   "metadata": {},
   "source": [
    "Now use your function to calculate the RSS on training data from the squarefeet model calculated above.\n",
    "\n",
    "**Quiz Question: According to this function and the slope and intercept from the squarefeet model What is the RSS for the simple linear regression using squarefeet to predict prices on TRAINING data?**"
   ]
  },
  {
   "cell_type": "code",
   "execution_count": 10,
   "metadata": {
    "collapsed": false
   },
   "outputs": [
    {
     "data": {
      "text/html": [
       "'The RSS for predicting price beased on sqft is 1.201918e+15'"
      ],
      "text/latex": [
       "'The RSS for predicting price beased on sqft is 1.201918e+15'"
      ],
      "text/markdown": [
       "'The RSS for predicting price beased on sqft is 1.201918e+15'"
      ],
      "text/plain": [
       "[1] \"The RSS for predicting price beased on sqft is 1.201918e+15\""
      ]
     },
     "metadata": {},
     "output_type": "display_data"
    }
   ],
   "source": [
    "rss_price_on_sqft <- residual_sum_square(train$sqft_living, train$price, actual_intercept, actual_slope)\n",
    "paste('The RSS for predicting price beased on sqft is',format(rss_price_on_sqft, scientific = TRUE))"
   ]
  },
  {
   "cell_type": "markdown",
   "metadata": {},
   "source": [
    "## Predict the squarefeet given price"
   ]
  },
  {
   "cell_type": "markdown",
   "metadata": {},
   "source": [
    "What if we want to predict the squarefoot given the price? Since we have an equation y = a + b\\*x we can solve the function for x. So that if we have the intercept (a) and the slope (b) and the price (y) we can solve for the estimated squarefeet (x).\n",
    "\n",
    "Complete the following function to compute the inverse regression estimate, i.e. predict the input_feature given the output."
   ]
  },
  {
   "cell_type": "code",
   "execution_count": 11,
   "metadata": {
    "collapsed": true
   },
   "outputs": [],
   "source": [
    "inverse_regression <- function(output, intercept, slope){\n",
    "    input_feature <- (output-intercept)/slope\n",
    "    return(input_feature)\n",
    "}"
   ]
  },
  {
   "cell_type": "markdown",
   "metadata": {},
   "source": [
    "Now that we have a function to compute the squarefeet given the price from our simple regression model let's see how big we might expect a house that costs $800,000 to be.\n",
    "\n",
    "**Quiz Question: According to this function and the regression slope and intercept from (3) what is the estimated square-feet for a house costing $800,000?**"
   ]
  },
  {
   "cell_type": "code",
   "execution_count": 12,
   "metadata": {
    "collapsed": false
   },
   "outputs": [
    {
     "data": {
      "text/html": [
       "<span style=white-space:pre-wrap>'The Estimated sqft for a house costing $800,000 is  3004.39624515228'</span>"
      ],
      "text/latex": [
       "'The Estimated sqft for a house costing \\$800,000 is  3004.39624515228'"
      ],
      "text/markdown": [
       "<span style=white-space:pre-wrap>'The Estimated sqft for a house costing $800,000 is  3004.39624515228'</span>"
      ],
      "text/plain": [
       "[1] \"The Estimated sqft for a house costing $800,000 is  3004.39624515228\""
      ]
     },
     "metadata": {},
     "output_type": "display_data"
    }
   ],
   "source": [
    "my_house_price =800000\n",
    "sqft_output = inverse_regression(my_house_price,actual_intercept,actual_slope)\n",
    "paste('The Estimated sqft for a house costing $800,000 is ',sqft_output)"
   ]
  },
  {
   "cell_type": "markdown",
   "metadata": {},
   "source": [
    "## New Model: estimate prices from bedroo"
   ]
  },
  {
   "cell_type": "markdown",
   "metadata": {},
   "source": [
    "We have made one model for predicting house prices using squarefeet, but there are many other features in the sales SFrame. \n",
    "Use your simple linear regression function to estimate the regression parameters from predicting Prices based on number of bedrooms. Use the training"
   ]
  },
  {
   "cell_type": "code",
   "execution_count": 17,
   "metadata": {
    "collapsed": false
   },
   "outputs": [
    {
     "data": {
      "text/html": [
       "<span style=white-space:pre-wrap>'Intercept: 109473.177622958  and Slope: 127588.952933988'</span>"
      ],
      "text/latex": [
       "'Intercept: 109473.177622958  and Slope: 127588.952933988'"
      ],
      "text/markdown": [
       "<span style=white-space:pre-wrap>'Intercept: 109473.177622958  and Slope: 127588.952933988'</span>"
      ],
      "text/plain": [
       "[1] \"Intercept: 109473.177622958  and Slope: 127588.952933988\""
      ]
     },
     "metadata": {},
     "output_type": "display_data"
    }
   ],
   "source": [
    "#Estimating the slope and intecept for price and bedrooms\n",
    "bdrmfinal <- simple_linear_regression(train$bedrooms,train$price)\n",
    "bdrm_intercept <- bdrmfinal$intercept\n",
    "bdrm_slope <- bdrmfinal$slope\n",
    "paste('Intercept:',bdrmfinal$intercept,' and Slope:',bdrmfinal$slope)"
   ]
  },
  {
   "cell_type": "markdown",
   "metadata": {},
   "source": [
    "## Test your Linear Regression Algorithm"
   ]
  },
  {
   "cell_type": "markdown",
   "metadata": {},
   "source": [
    "Now we have two models for predicting the price of a house. How do we know which one is better? Calculate the RSS on the TEST data (remember this data wasn't involved in learning the model). Compute the RSS from predicting prices using bedrooms and from predicting prices using squarefeet.\n",
    "\n",
    "**Quiz Question: Which model (square feet or bedrooms) has lowest RSS on TEST data? Think about why this might be the case.**"
   ]
  },
  {
   "cell_type": "code",
   "execution_count": 14,
   "metadata": {
    "collapsed": false
   },
   "outputs": [
    {
     "data": {
      "text/html": [
       "<span style=white-space:pre-wrap>'The RSS for Price and Square feet is  2.754029e+14'</span>"
      ],
      "text/latex": [
       "'The RSS for Price and Square feet is  2.754029e+14'"
      ],
      "text/markdown": [
       "<span style=white-space:pre-wrap>'The RSS for Price and Square feet is  2.754029e+14'</span>"
      ],
      "text/plain": [
       "[1] \"The RSS for Price and Square feet is  2.754029e+14\""
      ]
     },
     "metadata": {},
     "output_type": "display_data"
    }
   ],
   "source": [
    "#RSS for price and Square feet\n",
    "price.sqft <- simple_linear_regression(train$sqft_living,train$price)\n",
    "Rss.price.sqft <- residual_sum_square(test$sqft_living, test$price, price.sqft$intercept, price.sqft$slope)\n",
    "paste('The RSS for Price and Square feet is ',format(Rss.price.sqft,scientific = TRUE))"
   ]
  },
  {
   "cell_type": "code",
   "execution_count": 15,
   "metadata": {
    "collapsed": false
   },
   "outputs": [
    {
     "data": {
      "text/html": [
       "<span style=white-space:pre-wrap>'The RSS for Price and Bedrooms are  4.933646e+14'</span>"
      ],
      "text/latex": [
       "'The RSS for Price and Bedrooms are  4.933646e+14'"
      ],
      "text/markdown": [
       "<span style=white-space:pre-wrap>'The RSS for Price and Bedrooms are  4.933646e+14'</span>"
      ],
      "text/plain": [
       "[1] \"The RSS for Price and Bedrooms are  4.933646e+14\""
      ]
     },
     "metadata": {},
     "output_type": "display_data"
    }
   ],
   "source": [
    "#Rss for price and bedrooms\n",
    "price.bedroom <- simple_linear_regression(train$bedrooms,train$price)\n",
    "Rss.price.bedroom <- residual_sum_square(test$bedrooms, test$price, price.bedroom$intercept, price.bedroom$slope)\n",
    "paste('The RSS for Price and Bedrooms are ',format(Rss.price.bedroom,scientific = TRUE))"
   ]
  }
 ],
 "metadata": {
  "anaconda-cloud": {},
  "kernelspec": {
   "display_name": "R",
   "language": "R",
   "name": "ir"
  },
  "language_info": {
   "codemirror_mode": "r",
   "file_extension": ".r",
   "mimetype": "text/x-r-source",
   "name": "R",
   "pygments_lexer": "r",
   "version": "3.3.2"
  }
 },
 "nbformat": 4,
 "nbformat_minor": 1
}
