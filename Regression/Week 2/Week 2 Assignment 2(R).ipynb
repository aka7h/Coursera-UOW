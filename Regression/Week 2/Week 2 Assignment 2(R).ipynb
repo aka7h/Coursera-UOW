{
 "cells": [
  {
   "cell_type": "code",
   "execution_count": 2,
   "metadata": {
    "collapsed": true
   },
   "outputs": [],
   "source": [
    "train <- read.csv('kc_house_train_data.csv', header = TRUE)"
   ]
  },
  {
   "cell_type": "code",
   "execution_count": 3,
   "metadata": {
    "collapsed": true
   },
   "outputs": [],
   "source": [
    "test <- read.csv('kc_house_test_data.csv', header = TRUE)"
   ]
  },
  {
   "cell_type": "code",
   "execution_count": 4,
   "metadata": {
    "collapsed": true
   },
   "outputs": [],
   "source": [
    "sales <- rbind(train,test)"
   ]
  },
  {
   "cell_type": "code",
   "execution_count": 5,
   "metadata": {
    "collapsed": true
   },
   "outputs": [],
   "source": [
    "#3\n",
    "get_matrix_data <- function(data_dframe, features, output){\n",
    "    data_dframe$constant = 1\n",
    "    features = c('constant',features)\n",
    "    feature_dframe = data_dframe[,features]\n",
    "    feature_matrix = data.matrix(feature_dframe)\n",
    "    \n",
    "    output_dframe = data_dframe[,output]\n",
    "    output_matrix = data.matrix(output_dframe)\n",
    "    return (list('feature_matrix'=feature_matrix,'output_matrix'=output_matrix))\n",
    "}"
   ]
  },
  {
   "cell_type": "code",
   "execution_count": 6,
   "metadata": {
    "collapsed": false
   },
   "outputs": [],
   "source": [
    "example = get_matrix_data(train,'sqft_living','price')"
   ]
  },
  {
   "cell_type": "code",
   "execution_count": 7,
   "metadata": {
    "collapsed": false
   },
   "outputs": [
    {
     "data": {
      "text/html": [
       "<dl class=dl-horizontal>\n",
       "\t<dt>constant</dt>\n",
       "\t\t<dd>1</dd>\n",
       "\t<dt>sqft_living</dt>\n",
       "\t\t<dd>1180</dd>\n",
       "</dl>\n"
      ],
      "text/latex": [
       "\\begin{description*}\n",
       "\\item[constant] 1\n",
       "\\item[sqft\\textbackslash{}\\_living] 1180\n",
       "\\end{description*}\n"
      ],
      "text/markdown": [
       "constant\n",
       ":   1sqft_living\n",
       ":   1180\n",
       "\n"
      ],
      "text/plain": [
       "   constant sqft_living \n",
       "          1        1180 "
      ]
     },
     "metadata": {},
     "output_type": "display_data"
    },
    {
     "data": {
      "text/html": [
       "221900"
      ],
      "text/latex": [
       "221900"
      ],
      "text/markdown": [
       "221900"
      ],
      "text/plain": [
       "[1] 221900"
      ]
     },
     "metadata": {},
     "output_type": "display_data"
    }
   ],
   "source": [
    "example$feature_matrix[1,]\n",
    "example$output_matrix[1]"
   ]
  },
  {
   "cell_type": "code",
   "execution_count": 8,
   "metadata": {
    "collapsed": false
   },
   "outputs": [
    {
     "name": "stdout",
     "output_type": "stream",
     "text": [
      "     [,1]\n",
      "[1,] 1181\n"
     ]
    }
   ],
   "source": [
    "#Predicting output given regression weights\n",
    "my_weight = as.matrix(c(1,1))\n",
    "my_feature = example$feature_matrix[1,]\n",
    "predicted_value = my_feature %*% my_weight\n",
    "print(predicted_value)"
   ]
  },
  {
   "cell_type": "code",
   "execution_count": 9,
   "metadata": {
    "collapsed": false
   },
   "outputs": [],
   "source": [
    "#predict output\n",
    "predict_output <- function(feature_matrix, weights){\n",
    "    # assume feature_matrix is a numpy matrix containing the features as columns and weights is a corresponding numpy array\n",
    "    # create the predictions vector by using np.dot()\n",
    "    predictions = feature_matrix %*% weights\n",
    "    return(predictions)\n",
    "}"
   ]
  },
  {
   "cell_type": "code",
   "execution_count": 10,
   "metadata": {
    "collapsed": false
   },
   "outputs": [
    {
     "name": "stdout",
     "output_type": "stream",
     "text": [
      "[1] 1181\n",
      "[1] 2571\n"
     ]
    }
   ],
   "source": [
    "test_predictions = predict_output(example$feature_matrix, my_weight)\n",
    "print(test_predictions[1])\n",
    "print(test_predictions[2])\n"
   ]
  },
  {
   "cell_type": "code",
   "execution_count": 11,
   "metadata": {
    "collapsed": false
   },
   "outputs": [],
   "source": [
    "# Computing the Derivative\n",
    "feature_derivative <- function(err,feat){\n",
    "    derivatives = 2*(err * feat)\n",
    "    return(sum(derivatives))\n",
    "}"
   ]
  },
  {
   "cell_type": "code",
   "execution_count": 12,
   "metadata": {
    "collapsed": false
   },
   "outputs": [],
   "source": [
    "example = get_matrix_data(sales, 'sqft_living','price')\n",
    "my_weight = as.matrix(c(0,0))\n",
    "test_predictions = predict_output(example$feature_matrix, my_weight)\n",
    "err = test_predictions - example$output_matrix"
   ]
  },
  {
   "cell_type": "code",
   "execution_count": 13,
   "metadata": {
    "collapsed": false
   },
   "outputs": [],
   "source": [
    "feat = example$feature_matrix[,1]"
   ]
  },
  {
   "cell_type": "code",
   "execution_count": 16,
   "metadata": {
    "collapsed": false
   },
   "outputs": [
    {
     "name": "stdout",
     "output_type": "stream",
     "text": [
      "[1] -23345850016\n"
     ]
    }
   ],
   "source": [
    "print(sum(-example$output_matrix)*2)"
   ]
  },
  {
   "cell_type": "code",
   "execution_count": 18,
   "metadata": {
    "collapsed": false
   },
   "outputs": [],
   "source": [
    "#due to error 'Cannot allocate vector of size 3.5gb', lets check for the first 5\n",
    "deriv = feature_derivative(err,feat)"
   ]
  },
  {
   "cell_type": "code",
   "execution_count": 19,
   "metadata": {
    "collapsed": false
   },
   "outputs": [
    {
     "name": "stdout",
     "output_type": "stream",
     "text": [
      "[1] -23345850016\n"
     ]
    }
   ],
   "source": [
    "print(deriv)"
   ]
  },
  {
   "cell_type": "code",
   "execution_count": 20,
   "metadata": {
    "collapsed": false
   },
   "outputs": [],
   "source": [
    "#GRADIENT DECENT\n",
    "regression_gradient_decent <- function(feature_matrix, output, initial_weight,step_size, tolerance){\n",
    "    converged = FALSE\n",
    "    weights = initial_weight\n",
    "    while(!(converged)){\n",
    "        predictions = predict_output(feature_matrix, weights)\n",
    "        \n",
    "        error = predictions - output\n",
    "        gradient_sum_square = 0\n",
    "        for(i in 1:length(weights)){\n",
    "            derivative =  feature_derivative(error,feature_matrix[,i])\n",
    "            \n",
    "            gradient_sum_square = gradient_sum_square+(derivative**2)\n",
    "            \n",
    "            weights[i] =weights[i]-(step_size*derivative)\n",
    "        }\n",
    "        gradient_magnitude = sqrt(gradient_sum_square)\n",
    "        if(gradient_magnitude < tolerance){\n",
    "            converged = TRUE\n",
    "        } \n",
    "    }\n",
    "    return(weights)\n",
    "}"
   ]
  },
  {
   "cell_type": "code",
   "execution_count": 21,
   "metadata": {
    "collapsed": false
   },
   "outputs": [],
   "source": [
    "#RUNNING GRADIENT DECENT\n",
    "simple_feature <- 'sqft_living'\n",
    "my_output <- 'price'\n",
    "simple_matrix <- get_matrix_data(train,simple_feature,my_output)\n",
    "initial_weight = c(-47000,1)\n",
    "step_size=7e-12\n",
    "tolerance = 2.5e7"
   ]
  },
  {
   "cell_type": "code",
   "execution_count": 22,
   "metadata": {
    "collapsed": false
   },
   "outputs": [],
   "source": [
    "test_weight = regression_gradient_decent(simple_matrix$feature_matrix, simple_matrix$output_matrix,initial_weight,step_size,tolerance)"
   ]
  },
  {
   "cell_type": "code",
   "execution_count": 23,
   "metadata": {
    "collapsed": false
   },
   "outputs": [
    {
     "data": {
      "text/html": [
       "<ol class=list-inline>\n",
       "\t<li>-46999.8871655467</li>\n",
       "\t<li>281.912119175209</li>\n",
       "</ol>\n"
      ],
      "text/latex": [
       "\\begin{enumerate*}\n",
       "\\item -46999.8871655467\n",
       "\\item 281.912119175209\n",
       "\\end{enumerate*}\n"
      ],
      "text/markdown": [
       "1. -46999.8871655467\n",
       "2. 281.912119175209\n",
       "\n",
       "\n"
      ],
      "text/plain": [
       "[1] -46999.8872    281.9121"
      ]
     },
     "metadata": {},
     "output_type": "display_data"
    }
   ],
   "source": [
    "test_weight"
   ]
  },
  {
   "cell_type": "code",
   "execution_count": 29,
   "metadata": {
    "collapsed": true
   },
   "outputs": [],
   "source": [
    "test_matrix <- get_matrix_data(test,'sqft_living','price')\n",
    "test_prediction <- predict_output(test_matrix$feature_matrix,test_weight)"
   ]
  },
  {
   "cell_type": "code",
   "execution_count": 30,
   "metadata": {
    "collapsed": false
   },
   "outputs": [
    {
     "data": {
      "text/html": [
       "275400044902128"
      ],
      "text/latex": [
       "275400044902128"
      ],
      "text/markdown": [
       "275400044902128"
      ],
      "text/plain": [
       "[1] 2.754e+14"
      ]
     },
     "metadata": {},
     "output_type": "display_data"
    }
   ],
   "source": [
    "test_residual <- test_prediction - test_matrix$output_matrix\n",
    "test_RSS = sum(test_residual*test_residual)\n",
    "test_RSS"
   ]
  },
  {
   "cell_type": "code",
   "execution_count": null,
   "metadata": {
    "collapsed": true
   },
   "outputs": [],
   "source": [
    "#RUNNING MULTIPLE REGRESSION"
   ]
  },
  {
   "cell_type": "code",
   "execution_count": 31,
   "metadata": {
    "collapsed": true
   },
   "outputs": [],
   "source": [
    "feature_matrix_train <- c('sqft_living','sqft_living15')\n",
    "my_output <- 'price'\n",
    "matrix_test <- get_matrix_data(train,feature_matrix_test,my_output)"
   ]
  },
  {
   "cell_type": "code",
   "execution_count": 32,
   "metadata": {
    "collapsed": true
   },
   "outputs": [],
   "source": [
    "initial_weight <- as.matrix(c(-100000,1,1))\n",
    "step_size <- 4e-12\n",
    "tolerance <- 1e+9"
   ]
  },
  {
   "cell_type": "code",
   "execution_count": 33,
   "metadata": {
    "collapsed": false
   },
   "outputs": [],
   "source": [
    "weight_2 <- regression_gradient_decent(matrix_test$feature_matrix, matrix_test$output_matrix,initial_weight,step_size,tolerance)"
   ]
  },
  {
   "cell_type": "code",
   "execution_count": 34,
   "metadata": {
    "collapsed": false
   },
   "outputs": [
    {
     "data": {
      "text/html": [
       "<table>\n",
       "<tbody>\n",
       "\t<tr><td>-99999.96885</td></tr>\n",
       "\t<tr><td>   245.07260</td></tr>\n",
       "\t<tr><td>    65.27953</td></tr>\n",
       "</tbody>\n",
       "</table>\n"
      ],
      "text/latex": [
       "\\begin{tabular}{l}\n",
       "\t -99999.96885\\\\\n",
       "\t    245.07260\\\\\n",
       "\t     65.27953\\\\\n",
       "\\end{tabular}\n"
      ],
      "text/markdown": [
       "\n",
       "| -99999.96885 | \n",
       "|    245.07260 | \n",
       "|     65.27953 | \n",
       "\n",
       "\n"
      ],
      "text/plain": [
       "     [,1]        \n",
       "[1,] -99999.96885\n",
       "[2,]    245.07260\n",
       "[3,]     65.27953"
      ]
     },
     "metadata": {},
     "output_type": "display_data"
    }
   ],
   "source": [
    "weight_2"
   ]
  },
  {
   "cell_type": "code",
   "execution_count": 35,
   "metadata": {
    "collapsed": true
   },
   "outputs": [],
   "source": [
    "feature_matrix_test <- c('sqft_living','sqft_living15')\n",
    "my_output <- 'price'\n",
    "matrix_test <- get_matrix_data(test,feature_matrix_test,my_output)"
   ]
  },
  {
   "cell_type": "code",
   "execution_count": 38,
   "metadata": {
    "collapsed": false
   },
   "outputs": [
    {
     "data": {
      "text/html": [
       "<table>\n",
       "<tbody>\n",
       "\t<tr><td> 366651.4</td></tr>\n",
       "\t<tr><td> 762662.4</td></tr>\n",
       "\t<tr><td> 386312.1</td></tr>\n",
       "\t<tr><td> 636989.7</td></tr>\n",
       "\t<tr><td> 269618.0</td></tr>\n",
       "\t<tr><td> 713122.6</td></tr>\n",
       "\t<tr><td>1091530.1</td></tr>\n",
       "\t<tr><td> 598292.3</td></tr>\n",
       "\t<tr><td> 293002.1</td></tr>\n",
       "\t<tr><td> 672521.8</td></tr>\n",
       "\t<tr><td> 465322.3</td></tr>\n",
       "\t<tr><td> 487710.7</td></tr>\n",
       "\t<tr><td> 514497.2</td></tr>\n",
       "\t<tr><td> 494581.5</td></tr>\n",
       "\t<tr><td> 560696.2</td></tr>\n",
       "\t<tr><td> 863922.5</td></tr>\n",
       "\t<tr><td> 789416.0</td></tr>\n",
       "\t<tr><td> 274862.3</td></tr>\n",
       "\t<tr><td> 775193.0</td></tr>\n",
       "\t<tr><td> 261613.1</td></tr>\n",
       "\t<tr><td> 668550.1</td></tr>\n",
       "\t<tr><td> 316010.4</td></tr>\n",
       "\t<tr><td> 470781.9</td></tr>\n",
       "\t<tr><td> 532786.5</td></tr>\n",
       "\t<tr><td> 747410.8</td></tr>\n",
       "\t<tr><td> 352162.4</td></tr>\n",
       "\t<tr><td>1095027.2</td></tr>\n",
       "\t<tr><td> 278275.8</td></tr>\n",
       "\t<tr><td> 418288.1</td></tr>\n",
       "\t<tr><td> 507958.3</td></tr>\n",
       "\t<tr><td>...</td></tr>\n",
       "\t<tr><td> 726986.0</td></tr>\n",
       "\t<tr><td> 479246.3</td></tr>\n",
       "\t<tr><td> 312607.9</td></tr>\n",
       "\t<tr><td> 238101.4</td></tr>\n",
       "\t<tr><td> 621162.1</td></tr>\n",
       "\t<tr><td> 958432.5</td></tr>\n",
       "\t<tr><td> 873222.1</td></tr>\n",
       "\t<tr><td> 886427.5</td></tr>\n",
       "\t<tr><td> 736645.2</td></tr>\n",
       "\t<tr><td> 465986.0</td></tr>\n",
       "\t<tr><td> 244490.9</td></tr>\n",
       "\t<tr><td>1354045.7</td></tr>\n",
       "\t<tr><td> 705898.0</td></tr>\n",
       "\t<tr><td>1257362.0</td></tr>\n",
       "\t<tr><td> 850888.5</td></tr>\n",
       "\t<tr><td> 267058.7</td></tr>\n",
       "\t<tr><td> 573292.7</td></tr>\n",
       "\t<tr><td> 582154.0</td></tr>\n",
       "\t<tr><td> 393459.9</td></tr>\n",
       "\t<tr><td> 651555.5</td></tr>\n",
       "\t<tr><td> 981590.3</td></tr>\n",
       "\t<tr><td> 847612.3</td></tr>\n",
       "\t<tr><td> 477266.0</td></tr>\n",
       "\t<tr><td> 362917.0</td></tr>\n",
       "\t<tr><td> 163434.5</td></tr>\n",
       "\t<tr><td>1119749.8</td></tr>\n",
       "\t<tr><td> 677838.7</td></tr>\n",
       "\t<tr><td> 682087.4</td></tr>\n",
       "\t<tr><td> 585579.3</td></tr>\n",
       "\t<tr><td> 216559.2</td></tr>\n",
       "</tbody>\n",
       "</table>\n"
      ],
      "text/latex": [
       "\\begin{tabular}{l}\n",
       "\t  366651.4\\\\\n",
       "\t  762662.4\\\\\n",
       "\t  386312.1\\\\\n",
       "\t  636989.7\\\\\n",
       "\t  269618.0\\\\\n",
       "\t  713122.6\\\\\n",
       "\t 1091530.1\\\\\n",
       "\t  598292.3\\\\\n",
       "\t  293002.1\\\\\n",
       "\t  672521.8\\\\\n",
       "\t  465322.3\\\\\n",
       "\t  487710.7\\\\\n",
       "\t  514497.2\\\\\n",
       "\t  494581.5\\\\\n",
       "\t  560696.2\\\\\n",
       "\t  863922.5\\\\\n",
       "\t  789416.0\\\\\n",
       "\t  274862.3\\\\\n",
       "\t  775193.0\\\\\n",
       "\t  261613.1\\\\\n",
       "\t  668550.1\\\\\n",
       "\t  316010.4\\\\\n",
       "\t  470781.9\\\\\n",
       "\t  532786.5\\\\\n",
       "\t  747410.8\\\\\n",
       "\t  352162.4\\\\\n",
       "\t 1095027.2\\\\\n",
       "\t  278275.8\\\\\n",
       "\t  418288.1\\\\\n",
       "\t  507958.3\\\\\n",
       "\t ...\\\\\n",
       "\t  726986.0\\\\\n",
       "\t  479246.3\\\\\n",
       "\t  312607.9\\\\\n",
       "\t  238101.4\\\\\n",
       "\t  621162.1\\\\\n",
       "\t  958432.5\\\\\n",
       "\t  873222.1\\\\\n",
       "\t  886427.5\\\\\n",
       "\t  736645.2\\\\\n",
       "\t  465986.0\\\\\n",
       "\t  244490.9\\\\\n",
       "\t 1354045.7\\\\\n",
       "\t  705898.0\\\\\n",
       "\t 1257362.0\\\\\n",
       "\t  850888.5\\\\\n",
       "\t  267058.7\\\\\n",
       "\t  573292.7\\\\\n",
       "\t  582154.0\\\\\n",
       "\t  393459.9\\\\\n",
       "\t  651555.5\\\\\n",
       "\t  981590.3\\\\\n",
       "\t  847612.3\\\\\n",
       "\t  477266.0\\\\\n",
       "\t  362917.0\\\\\n",
       "\t  163434.5\\\\\n",
       "\t 1119749.8\\\\\n",
       "\t  677838.7\\\\\n",
       "\t  682087.4\\\\\n",
       "\t  585579.3\\\\\n",
       "\t  216559.2\\\\\n",
       "\\end{tabular}\n"
      ],
      "text/markdown": [
       "\n",
       "|  366651.4 | \n",
       "|  762662.4 | \n",
       "|  386312.1 | \n",
       "|  636989.7 | \n",
       "|  269618.0 | \n",
       "|  713122.6 | \n",
       "| 1091530.1 | \n",
       "|  598292.3 | \n",
       "|  293002.1 | \n",
       "|  672521.8 | \n",
       "|  465322.3 | \n",
       "|  487710.7 | \n",
       "|  514497.2 | \n",
       "|  494581.5 | \n",
       "|  560696.2 | \n",
       "|  863922.5 | \n",
       "|  789416.0 | \n",
       "|  274862.3 | \n",
       "|  775193.0 | \n",
       "|  261613.1 | \n",
       "|  668550.1 | \n",
       "|  316010.4 | \n",
       "|  470781.9 | \n",
       "|  532786.5 | \n",
       "|  747410.8 | \n",
       "|  352162.4 | \n",
       "| 1095027.2 | \n",
       "|  278275.8 | \n",
       "|  418288.1 | \n",
       "|  507958.3 | \n",
       "| ... | \n",
       "|  726986.0 | \n",
       "|  479246.3 | \n",
       "|  312607.9 | \n",
       "|  238101.4 | \n",
       "|  621162.1 | \n",
       "|  958432.5 | \n",
       "|  873222.1 | \n",
       "|  886427.5 | \n",
       "|  736645.2 | \n",
       "|  465986.0 | \n",
       "|  244490.9 | \n",
       "| 1354045.7 | \n",
       "|  705898.0 | \n",
       "| 1257362.0 | \n",
       "|  850888.5 | \n",
       "|  267058.7 | \n",
       "|  573292.7 | \n",
       "|  582154.0 | \n",
       "|  393459.9 | \n",
       "|  651555.5 | \n",
       "|  981590.3 | \n",
       "|  847612.3 | \n",
       "|  477266.0 | \n",
       "|  362917.0 | \n",
       "|  163434.5 | \n",
       "| 1119749.8 | \n",
       "|  677838.7 | \n",
       "|  682087.4 | \n",
       "|  585579.3 | \n",
       "|  216559.2 | \n",
       "\n",
       "\n"
      ],
      "text/plain": [
       "      [,1]     \n",
       " [1,]  366651.4\n",
       " [2,]  762662.4\n",
       " [3,]  386312.1\n",
       " [4,]  636989.7\n",
       " [5,]  269618.0\n",
       " [6,]  713122.6\n",
       " [7,] 1091530.1\n",
       " [8,]  598292.3\n",
       " [9,]  293002.1\n",
       "[10,]  672521.8\n",
       "[11,]  465322.3\n",
       "[12,]  487710.7\n",
       "[13,]  514497.2\n",
       "[14,]  494581.5\n",
       "[15,]  560696.2\n",
       "[16,]  863922.5\n",
       "[17,]  789416.0\n",
       "[18,]  274862.3\n",
       "[19,]  775193.0\n",
       "[20,]  261613.1\n",
       "[21,]  668550.1\n",
       "[22,]  316010.4\n",
       "[23,]  470781.9\n",
       "[24,]  532786.5\n",
       "[25,]  747410.8\n",
       "[26,]  352162.4\n",
       "[27,] 1095027.2\n",
       "[28,]  278275.8\n",
       "[29,]  418288.1\n",
       "[30,]  507958.3\n",
       "[31,] ...      \n",
       "[32,]  726986.0\n",
       "[33,]  479246.3\n",
       "[34,]  312607.9\n",
       "[35,]  238101.4\n",
       "[36,]  621162.1\n",
       "[37,]  958432.5\n",
       "[38,]  873222.1\n",
       "[39,]  886427.5\n",
       "[40,]  736645.2\n",
       "[41,]  465986.0\n",
       "[42,]  244490.9\n",
       "[43,] 1354045.7\n",
       "[44,]  705898.0\n",
       "[45,] 1257362.0\n",
       "[46,]  850888.5\n",
       "[47,]  267058.7\n",
       "[48,]  573292.7\n",
       "[49,]  582154.0\n",
       "[50,]  393459.9\n",
       "[51,]  651555.5\n",
       "[52,]  981590.3\n",
       "[53,]  847612.3\n",
       "[54,]  477266.0\n",
       "[55,]  362917.0\n",
       "[56,]  163434.5\n",
       "[57,] 1119749.8\n",
       "[58,]  677838.7\n",
       "[59,]  682087.4\n",
       "[60,]  585579.3\n",
       "[61,]  216559.2"
      ]
     },
     "metadata": {},
     "output_type": "display_data"
    }
   ],
   "source": [
    "test_prediction_mr <- predict_output(matrix_test$feature_matrix,weight_2)\n",
    "test_prediction_mr"
   ]
  },
  {
   "cell_type": "code",
   "execution_count": 39,
   "metadata": {
    "collapsed": false
   },
   "outputs": [
    {
     "data": {
      "text/html": [],
      "text/latex": [],
      "text/markdown": [],
      "text/plain": [
       "numeric(0)"
      ]
     },
     "metadata": {},
     "output_type": "display_data"
    }
   ],
   "source": [
    "matrix_test$output_matrix[0]"
   ]
  },
  {
   "cell_type": "code",
   "execution_count": 40,
   "metadata": {
    "collapsed": false
   },
   "outputs": [
    {
     "data": {
      "text/html": [
       "270263443629804"
      ],
      "text/latex": [
       "270263443629804"
      ],
      "text/markdown": [
       "270263443629804"
      ],
      "text/plain": [
       "[1] 2.702634e+14"
      ]
     },
     "metadata": {},
     "output_type": "display_data"
    }
   ],
   "source": [
    "test_residual <- test_prediction_mr - matrix_test$output_matrix\n",
    "test_RSS = sum(test_residual*test_residual)\n",
    "test_RSS"
   ]
  },
  {
   "cell_type": "code",
   "execution_count": null,
   "metadata": {
    "collapsed": true
   },
   "outputs": [],
   "source": []
  }
 ],
 "metadata": {
  "kernelspec": {
   "display_name": "R",
   "language": "R",
   "name": "ir"
  },
  "language_info": {
   "codemirror_mode": "r",
   "file_extension": ".r",
   "mimetype": "text/x-r-source",
   "name": "R",
   "pygments_lexer": "r",
   "version": "3.3.2"
  }
 },
 "nbformat": 4,
 "nbformat_minor": 2
}
