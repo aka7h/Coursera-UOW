{
 "cells": [
  {
   "cell_type": "markdown",
   "metadata": {},
   "source": [
    "# Regression Week 2: Multiple Regression (Interpretation)\n",
    "\n",
    "The goal of this first notebook is to explore multiple regression and feature engineering with existing graphlab functions.\n",
    "\n",
    "In this notebook you will use data on house sales in King County to predict prices using multiple regression. You will:\n",
    "* Use SFrames to do some feature engineering\n",
    "* Use built-in graphlab functions to compute the regression weights (coefficients/parameters)\n",
    "* Given the regression weights, predictors and outcome write a function to compute the Residual Sum of Squares\n",
    "* Look at coefficients and interpret their meanings\n",
    "* Evaluate multiple models via RSS"
   ]
  },
  {
   "cell_type": "markdown",
   "metadata": {},
   "source": [
    "# Load in house sales data\n",
    "\n",
    "Dataset is from house sales in King County, the region where the city of Seattle, WA is located."
   ]
  },
  {
   "cell_type": "code",
   "execution_count": 1,
   "metadata": {
    "collapsed": true
   },
   "outputs": [],
   "source": [
    "train <- read.csv('kc_house_train_data.csv', header = TRUE)\n",
    "test <- read.csv('kc_house_test_data.csv', header = TRUE)"
   ]
  },
  {
   "cell_type": "markdown",
   "metadata": {},
   "source": [
    "# Learning a multiple regression model\n",
    "\n",
    "Recall we can use the following code to learn a multiple regression model predicting 'price' based on the following features:\n",
    "example_features = ['sqft_living', 'bedrooms', 'bathrooms'] on training data with the following code:\n",
    "\n",
    "(Aside: We set validation_set = None to ensure that the results are always the same)"
   ]
  },
  {
   "cell_type": "code",
   "execution_count": 2,
   "metadata": {
    "collapsed": true
   },
   "outputs": [],
   "source": [
    "#example_features <- c('sqft_living','bedrooms','bathrooms')\n",
    "example_formula <- price~sqft_living+bedrooms+bathrooms\n",
    "example.model <- lm(example_formula, train)"
   ]
  },
  {
   "cell_type": "markdown",
   "metadata": {},
   "source": [
    "Now that we have fitted the model we can extract the regression weights (coefficients) as an SFrame as follows:"
   ]
  },
  {
   "cell_type": "code",
   "execution_count": 3,
   "metadata": {
    "collapsed": false
   },
   "outputs": [
    {
     "data": {
      "text/html": [
       "<dl class=dl-horizontal>\n",
       "\t<dt>(Intercept)</dt>\n",
       "\t\t<dd>87912.8658149464</dd>\n",
       "\t<dt>sqft_living</dt>\n",
       "\t\t<dd>315.406690615507</dd>\n",
       "\t<dt>bedrooms</dt>\n",
       "\t\t<dd>-65081.8871158774</dd>\n",
       "\t<dt>bathrooms</dt>\n",
       "\t\t<dd>6942.16598636951</dd>\n",
       "</dl>\n"
      ],
      "text/latex": [
       "\\begin{description*}\n",
       "\\item[(Intercept)] 87912.8658149464\n",
       "\\item[sqft\\textbackslash{}\\_living] 315.406690615507\n",
       "\\item[bedrooms] -65081.8871158774\n",
       "\\item[bathrooms] 6942.16598636951\n",
       "\\end{description*}\n"
      ],
      "text/markdown": [
       "(Intercept)\n",
       ":   87912.8658149464sqft_living\n",
       ":   315.406690615507bedrooms\n",
       ":   -65081.8871158774bathrooms\n",
       ":   6942.16598636951\n",
       "\n"
      ],
      "text/plain": [
       "(Intercept) sqft_living    bedrooms   bathrooms \n",
       " 87912.8658    315.4067 -65081.8871   6942.1660 "
      ]
     },
     "metadata": {},
     "output_type": "display_data"
    }
   ],
   "source": [
    "example.model$coefficients"
   ]
  },
  {
   "cell_type": "markdown",
   "metadata": {},
   "source": [
    "# Making Predictions\n",
    "\n",
    "In the gradient descent notebook we use numpy to do our regression. In this book we will use existing graphlab create functions to analyze multiple regressions. \n",
    "\n",
    "Recall that once a model is built we can use the .predict() function to find the predicted values for data we pass. For example using the example model above:"
   ]
  },
  {
   "cell_type": "code",
   "execution_count": 4,
   "metadata": {
    "collapsed": false
   },
   "outputs": [
    {
     "data": {
      "text/html": [
       "<strong>1:</strong> 271789.265379982"
      ],
      "text/latex": [
       "\\textbf{1:} 271789.265379982"
      ],
      "text/markdown": [
       "**1:** 271789.265379982"
      ],
      "text/plain": [
       "       1 \n",
       "271789.3 "
      ]
     },
     "metadata": {},
     "output_type": "display_data"
    }
   ],
   "source": [
    "example.predictions <- predict(example.model, train)\n",
    "example.predictions[1]"
   ]
  },
  {
   "cell_type": "markdown",
   "metadata": {},
   "source": [
    "# Compute RSS\n",
    "\n",
    "Now that we can make predictions given the model, let's write a function to compute the RSS of the model. Complete the function below to calculate RSS given the model, data, and the outcome."
   ]
  },
  {
   "cell_type": "code",
   "execution_count": 5,
   "metadata": {
    "collapsed": true
   },
   "outputs": [],
   "source": [
    "get_residual_sum_of_square<- function(model,data,outcome){\n",
    "    #Predicting the output\n",
    "    prediction <- predict(model, data)\n",
    "    #Computing the residul errors\n",
    "    residual_error <- outcome - prediction\n",
    "    #then square and add them\n",
    "    rss <- sum(residual_error^2)\n",
    "    return(rss)\n",
    "}"
   ]
  },
  {
   "cell_type": "markdown",
   "metadata": {},
   "source": [
    "Test your function by computing the RSS on TEST data for the example model:"
   ]
  },
  {
   "cell_type": "code",
   "execution_count": 6,
   "metadata": {
    "collapsed": false
   },
   "outputs": [
    {
     "data": {
      "text/html": [
       "273761940583134"
      ],
      "text/latex": [
       "273761940583134"
      ],
      "text/markdown": [
       "273761940583134"
      ],
      "text/plain": [
       "[1] 2.737619e+14"
      ]
     },
     "metadata": {},
     "output_type": "display_data"
    }
   ],
   "source": [
    "rss_example_train <- get_residual_sum_of_square(example.model,test,test$price)\n",
    "rss_example_train"
   ]
  },
  {
   "cell_type": "markdown",
   "metadata": {},
   "source": [
    "# Create some new features\n",
    "\n",
    "Although we often think of multiple regression as including multiple different features (e.g. # of bedrooms, squarefeet, and # of bathrooms) but we can also consider transformations of existing features e.g. the log of the squarefeet or even \"interaction\" features such as the product of bedrooms and bathrooms.\n",
    "\n",
    "You will use the logarithm function to create a new feature. so first you should import it from the math library."
   ]
  },
  {
   "cell_type": "markdown",
   "metadata": {},
   "source": [
    "Next create the following 4 new features as column in both TEST and TRAIN data:\n",
    "* bedrooms_squared = bedrooms\\*bedrooms\n",
    "* bed_bath_rooms = bedrooms\\*bathrooms\n",
    "* log_sqft_living = log(sqft_living)\n",
    "* lat_plus_long = lat + long \n",
    "As an example here's the first one:"
   ]
  },
  {
   "cell_type": "code",
   "execution_count": 7,
   "metadata": {
    "collapsed": false
   },
   "outputs": [],
   "source": [
    "#Create some features\n",
    "train$bedrooms_squared <- train$bedrooms^2\n",
    "train$bed_bath_rooms <- train$bedrooms*train$bathrooms\n",
    "train$log_sqft_living <- log(train$sqft_living)\n",
    "train$lat_plus_long <- train$lat+train$long\n",
    "\n",
    "test$bedrooms_squared <- test$bedrooms^2\n",
    "test$bed_bath_rooms <- test$bedrooms*test$bathrooms\n",
    "test$log_sqft_living <- log(test$sqft_living)\n",
    "test$lat_plus_long <- test$lat+test$long"
   ]
  },
  {
   "cell_type": "markdown",
   "metadata": {},
   "source": [
    "* Squaring bedrooms will increase the separation between not many bedrooms (e.g. 1) and lots of bedrooms (e.g. 4) since 1^2 = 1 but 4^2 = 16. Consequently this feature will mostly affect houses with many bedrooms.\n",
    "* bedrooms times bathrooms gives what's called an \"interaction\" feature. It is large when *both* of them are large.\n",
    "* Taking the log of squarefeet has the effect of bringing large values closer together and spreading out small values.\n",
    "* Adding latitude to longitude is totally non-sensical but we will do it anyway (you'll see why)"
   ]
  },
  {
   "cell_type": "code",
   "execution_count": 8,
   "metadata": {
    "collapsed": false
   },
   "outputs": [
    {
     "data": {
      "text/html": [
       "<table>\n",
       "<thead><tr><th scope=col>id</th><th scope=col>date</th><th scope=col>price</th><th scope=col>bedrooms</th><th scope=col>bathrooms</th><th scope=col>sqft_living</th><th scope=col>sqft_lot</th><th scope=col>floors</th><th scope=col>waterfront</th><th scope=col>view</th><th scope=col>...</th><th scope=col>yr_renovated</th><th scope=col>zipcode</th><th scope=col>lat</th><th scope=col>long</th><th scope=col>sqft_living15</th><th scope=col>sqft_lot15</th><th scope=col>bedrooms_squared</th><th scope=col>bed_bath_rooms</th><th scope=col>log_sqft_living</th><th scope=col>lat_plus_long</th></tr></thead>\n",
       "<tbody>\n",
       "\t<tr><td>7129300520     </td><td>20141013T000000</td><td> 221900        </td><td>3              </td><td>1.00           </td><td>1180           </td><td>  5650         </td><td>1              </td><td>0              </td><td>0              </td><td>...            </td><td>   0           </td><td>98178          </td><td>47.5112        </td><td>-122.257       </td><td>1340           </td><td>  5650         </td><td> 9             </td><td> 3.00          </td><td>7.073270       </td><td>-74.7458       </td></tr>\n",
       "\t<tr><td>6414100192     </td><td>20141209T000000</td><td> 538000        </td><td>3              </td><td>2.25           </td><td>2570           </td><td>  7242         </td><td>2              </td><td>0              </td><td>0              </td><td>...            </td><td>1991           </td><td>98125          </td><td>47.7210        </td><td>-122.319       </td><td>1690           </td><td>  7639         </td><td> 9             </td><td> 6.75          </td><td>7.851661       </td><td>-74.5980       </td></tr>\n",
       "\t<tr><td>5631500400     </td><td>20150225T000000</td><td> 180000        </td><td>2              </td><td>1.00           </td><td> 770           </td><td> 10000         </td><td>1              </td><td>0              </td><td>0              </td><td>...            </td><td>   0           </td><td>98028          </td><td>47.7379        </td><td>-122.233       </td><td>2720           </td><td>  8062         </td><td> 4             </td><td> 2.00          </td><td>6.646391       </td><td>-74.4951       </td></tr>\n",
       "\t<tr><td>2487200875     </td><td>20141209T000000</td><td> 604000        </td><td>4              </td><td>3.00           </td><td>1960           </td><td>  5000         </td><td>1              </td><td>0              </td><td>0              </td><td>...            </td><td>   0           </td><td>98136          </td><td>47.5208        </td><td>-122.393       </td><td>1360           </td><td>  5000         </td><td>16             </td><td>12.00          </td><td>7.580700       </td><td>-74.8722       </td></tr>\n",
       "\t<tr><td>1954400510     </td><td>20150218T000000</td><td> 510000        </td><td>3              </td><td>2.00           </td><td>1680           </td><td>  8080         </td><td>1              </td><td>0              </td><td>0              </td><td>...            </td><td>   0           </td><td>98074          </td><td>47.6168        </td><td>-122.045       </td><td>1800           </td><td>  7503         </td><td> 9             </td><td> 6.00          </td><td>7.426549       </td><td>-74.4282       </td></tr>\n",
       "\t<tr><td>7237550310     </td><td>20140512T000000</td><td>1225000        </td><td>4              </td><td>4.50           </td><td>5420           </td><td>101930         </td><td>1              </td><td>0              </td><td>0              </td><td>...            </td><td>   0           </td><td>98053          </td><td>47.6561        </td><td>-122.005       </td><td>4760           </td><td>101930         </td><td>16             </td><td>18.00          </td><td>8.597851       </td><td>-74.3489       </td></tr>\n",
       "</tbody>\n",
       "</table>\n"
      ],
      "text/latex": [
       "\\begin{tabular}{r|lllllllllllllllllllllllll}\n",
       " id & date & price & bedrooms & bathrooms & sqft\\_living & sqft\\_lot & floors & waterfront & view & ... & yr\\_renovated & zipcode & lat & long & sqft\\_living15 & sqft\\_lot15 & bedrooms\\_squared & bed\\_bath\\_rooms & log\\_sqft\\_living & lat\\_plus\\_long\\\\\n",
       "\\hline\n",
       "\t 7129300520      & 20141013T000000 &  221900         & 3               & 1.00            & 1180            &   5650          & 1               & 0               & 0               & ...             &    0            & 98178           & 47.5112         & -122.257        & 1340            &   5650          &  9              &  3.00           & 7.073270        & -74.7458       \\\\\n",
       "\t 6414100192      & 20141209T000000 &  538000         & 3               & 2.25            & 2570            &   7242          & 2               & 0               & 0               & ...             & 1991            & 98125           & 47.7210         & -122.319        & 1690            &   7639          &  9              &  6.75           & 7.851661        & -74.5980       \\\\\n",
       "\t 5631500400      & 20150225T000000 &  180000         & 2               & 1.00            &  770            &  10000          & 1               & 0               & 0               & ...             &    0            & 98028           & 47.7379         & -122.233        & 2720            &   8062          &  4              &  2.00           & 6.646391        & -74.4951       \\\\\n",
       "\t 2487200875      & 20141209T000000 &  604000         & 4               & 3.00            & 1960            &   5000          & 1               & 0               & 0               & ...             &    0            & 98136           & 47.5208         & -122.393        & 1360            &   5000          & 16              & 12.00           & 7.580700        & -74.8722       \\\\\n",
       "\t 1954400510      & 20150218T000000 &  510000         & 3               & 2.00            & 1680            &   8080          & 1               & 0               & 0               & ...             &    0            & 98074           & 47.6168         & -122.045        & 1800            &   7503          &  9              &  6.00           & 7.426549        & -74.4282       \\\\\n",
       "\t 7237550310      & 20140512T000000 & 1225000         & 4               & 4.50            & 5420            & 101930          & 1               & 0               & 0               & ...             &    0            & 98053           & 47.6561         & -122.005        & 4760            & 101930          & 16              & 18.00           & 8.597851        & -74.3489       \\\\\n",
       "\\end{tabular}\n"
      ],
      "text/markdown": [
       "\n",
       "id | date | price | bedrooms | bathrooms | sqft_living | sqft_lot | floors | waterfront | view | ... | yr_renovated | zipcode | lat | long | sqft_living15 | sqft_lot15 | bedrooms_squared | bed_bath_rooms | log_sqft_living | lat_plus_long | \n",
       "|---|---|---|---|---|---|\n",
       "| 7129300520      | 20141013T000000 |  221900         | 3               | 1.00            | 1180            |   5650          | 1               | 0               | 0               | ...             |    0            | 98178           | 47.5112         | -122.257        | 1340            |   5650          |  9              |  3.00           | 7.073270        | -74.7458        | \n",
       "| 6414100192      | 20141209T000000 |  538000         | 3               | 2.25            | 2570            |   7242          | 2               | 0               | 0               | ...             | 1991            | 98125           | 47.7210         | -122.319        | 1690            |   7639          |  9              |  6.75           | 7.851661        | -74.5980        | \n",
       "| 5631500400      | 20150225T000000 |  180000         | 2               | 1.00            |  770            |  10000          | 1               | 0               | 0               | ...             |    0            | 98028           | 47.7379         | -122.233        | 2720            |   8062          |  4              |  2.00           | 6.646391        | -74.4951        | \n",
       "| 2487200875      | 20141209T000000 |  604000         | 4               | 3.00            | 1960            |   5000          | 1               | 0               | 0               | ...             |    0            | 98136           | 47.5208         | -122.393        | 1360            |   5000          | 16              | 12.00           | 7.580700        | -74.8722        | \n",
       "| 1954400510      | 20150218T000000 |  510000         | 3               | 2.00            | 1680            |   8080          | 1               | 0               | 0               | ...             |    0            | 98074           | 47.6168         | -122.045        | 1800            |   7503          |  9              |  6.00           | 7.426549        | -74.4282        | \n",
       "| 7237550310      | 20140512T000000 | 1225000         | 4               | 4.50            | 5420            | 101930          | 1               | 0               | 0               | ...             |    0            | 98053           | 47.6561         | -122.005        | 4760            | 101930          | 16              | 18.00           | 8.597851        | -74.3489        | \n",
       "\n",
       "\n"
      ],
      "text/plain": [
       "  id         date            price   bedrooms bathrooms sqft_living sqft_lot\n",
       "1 7129300520 20141013T000000  221900 3        1.00      1180          5650  \n",
       "2 6414100192 20141209T000000  538000 3        2.25      2570          7242  \n",
       "3 5631500400 20150225T000000  180000 2        1.00       770         10000  \n",
       "4 2487200875 20141209T000000  604000 4        3.00      1960          5000  \n",
       "5 1954400510 20150218T000000  510000 3        2.00      1680          8080  \n",
       "6 7237550310 20140512T000000 1225000 4        4.50      5420        101930  \n",
       "  floors waterfront view ... yr_renovated zipcode lat     long    \n",
       "1 1      0          0    ...    0         98178   47.5112 -122.257\n",
       "2 2      0          0    ... 1991         98125   47.7210 -122.319\n",
       "3 1      0          0    ...    0         98028   47.7379 -122.233\n",
       "4 1      0          0    ...    0         98136   47.5208 -122.393\n",
       "5 1      0          0    ...    0         98074   47.6168 -122.045\n",
       "6 1      0          0    ...    0         98053   47.6561 -122.005\n",
       "  sqft_living15 sqft_lot15 bedrooms_squared bed_bath_rooms log_sqft_living\n",
       "1 1340            5650      9                3.00          7.073270       \n",
       "2 1690            7639      9                6.75          7.851661       \n",
       "3 2720            8062      4                2.00          6.646391       \n",
       "4 1360            5000     16               12.00          7.580700       \n",
       "5 1800            7503      9                6.00          7.426549       \n",
       "6 4760          101930     16               18.00          8.597851       \n",
       "  lat_plus_long\n",
       "1 -74.7458     \n",
       "2 -74.5980     \n",
       "3 -74.4951     \n",
       "4 -74.8722     \n",
       "5 -74.4282     \n",
       "6 -74.3489     "
      ]
     },
     "metadata": {},
     "output_type": "display_data"
    }
   ],
   "source": [
    "head(train)"
   ]
  },
  {
   "cell_type": "markdown",
   "metadata": {},
   "source": [
    "**Quiz Question: What is the mean (arithmetic average) value of your 4 new features on TEST data? (round to 2 digits)**"
   ]
  },
  {
   "cell_type": "code",
   "execution_count": 9,
   "metadata": {
    "collapsed": false
   },
   "outputs": [
    {
     "data": {
      "text/html": [
       "12.4466777015843"
      ],
      "text/latex": [
       "12.4466777015843"
      ],
      "text/markdown": [
       "12.4466777015843"
      ],
      "text/plain": [
       "[1] 12.44668"
      ]
     },
     "metadata": {},
     "output_type": "display_data"
    },
    {
     "data": {
      "text/html": [
       "7.50390163159139"
      ],
      "text/latex": [
       "7.50390163159139"
      ],
      "text/markdown": [
       "7.50390163159139"
      ],
      "text/plain": [
       "[1] 7.503902"
      ]
     },
     "metadata": {},
     "output_type": "display_data"
    },
    {
     "data": {
      "text/html": [
       "7.55027467964594"
      ],
      "text/latex": [
       "7.55027467964594"
      ],
      "text/markdown": [
       "7.55027467964594"
      ],
      "text/plain": [
       "[1] 7.550275"
      ]
     },
     "metadata": {},
     "output_type": "display_data"
    },
    {
     "data": {
      "text/html": [
       "-74.6533335540317"
      ],
      "text/latex": [
       "-74.6533335540317"
      ],
      "text/markdown": [
       "-74.6533335540317"
      ],
      "text/plain": [
       "[1] -74.65333"
      ]
     },
     "metadata": {},
     "output_type": "display_data"
    }
   ],
   "source": [
    "#what is the mean for all 4 varaibles\n",
    "mean(test$bedrooms_squared)\n",
    "mean(test$bed_bath_rooms)\n",
    "mean(test$log_sqft_living)\n",
    "mean(test$lat_plus_long)"
   ]
  },
  {
   "cell_type": "markdown",
   "metadata": {},
   "source": [
    "# Learning Multiple Models\n",
    "\n",
    "Now we will learn the weights for three (nested) models for predicting house prices. The first model will have the fewest features the second model will add one more feature and the third will add a few more:\n",
    "* Model 1: squarefeet, # bedrooms, # bathrooms, latitude & longitude\n",
    "* Model 2: add bedrooms\\*bathrooms\n",
    "* Model 3: Add log squarefeet, bedrooms squared, and the (nonsensical) latitude + longitude"
   ]
  },
  {
   "cell_type": "code",
   "execution_count": 10,
   "metadata": {
    "collapsed": true
   },
   "outputs": [],
   "source": [
    "#Learning Multiple models\n",
    "model.1.formula <- price~sqft_living+bathrooms+bedrooms+lat+long\n",
    "model.2.formula <- price~sqft_living+bedrooms+bathrooms+lat+long+bed_bath_rooms\n",
    "model.3.formula <- price~sqft_living+bedrooms+bathrooms+lat+long+bed_bath_rooms+bedrooms_squared+log_sqft_living+lat_plus_long"
   ]
  },
  {
   "cell_type": "code",
   "execution_count": 11,
   "metadata": {
    "collapsed": false
   },
   "outputs": [
    {
     "data": {
      "text/html": [
       "<dl class=dl-horizontal>\n",
       "\t<dt>(Intercept)</dt>\n",
       "\t\t<dd>-69075726.7925689</dd>\n",
       "\t<dt>sqft_living</dt>\n",
       "\t\t<dd>312.258646273228</dd>\n",
       "\t<dt>bathrooms</dt>\n",
       "\t\t<dd>15706.7420827384</dd>\n",
       "\t<dt>bedrooms</dt>\n",
       "\t\t<dd>-59586.5331536131</dd>\n",
       "\t<dt>lat</dt>\n",
       "\t\t<dd>658619.263930524</dd>\n",
       "\t<dt>long</dt>\n",
       "\t\t<dd>-309374.35126822</dd>\n",
       "</dl>\n"
      ],
      "text/latex": [
       "\\begin{description*}\n",
       "\\item[(Intercept)] -69075726.7925689\n",
       "\\item[sqft\\textbackslash{}\\_living] 312.258646273228\n",
       "\\item[bathrooms] 15706.7420827384\n",
       "\\item[bedrooms] -59586.5331536131\n",
       "\\item[lat] 658619.263930524\n",
       "\\item[long] -309374.35126822\n",
       "\\end{description*}\n"
      ],
      "text/markdown": [
       "(Intercept)\n",
       ":   -69075726.7925689sqft_living\n",
       ":   312.258646273228bathrooms\n",
       ":   15706.7420827384bedrooms\n",
       ":   -59586.5331536131lat\n",
       ":   658619.263930524long\n",
       ":   -309374.35126822\n",
       "\n"
      ],
      "text/plain": [
       "  (Intercept)   sqft_living     bathrooms      bedrooms           lat \n",
       "-6.907573e+07  3.122586e+02  1.570674e+04 -5.958653e+04  6.586193e+05 \n",
       "         long \n",
       "-3.093744e+05 "
      ]
     },
     "metadata": {},
     "output_type": "display_data"
    },
    {
     "data": {
      "text/html": [
       "<dl class=dl-horizontal>\n",
       "\t<dt>(Intercept)</dt>\n",
       "\t\t<dd>-66867968.8710775</dd>\n",
       "\t<dt>sqft_living</dt>\n",
       "\t\t<dd>306.610053459003</dd>\n",
       "\t<dt>bedrooms</dt>\n",
       "\t\t<dd>-113446.368070204</dd>\n",
       "\t<dt>bathrooms</dt>\n",
       "\t\t<dd>-71461.3082927578</dd>\n",
       "\t<dt>lat</dt>\n",
       "\t\t<dd>654844.629503313</dd>\n",
       "\t<dt>long</dt>\n",
       "\t\t<dd>-294298.969138102</dd>\n",
       "\t<dt>bed_bath_rooms</dt>\n",
       "\t\t<dd>25579.6520007522</dd>\n",
       "</dl>\n"
      ],
      "text/latex": [
       "\\begin{description*}\n",
       "\\item[(Intercept)] -66867968.8710775\n",
       "\\item[sqft\\textbackslash{}\\_living] 306.610053459003\n",
       "\\item[bedrooms] -113446.368070204\n",
       "\\item[bathrooms] -71461.3082927578\n",
       "\\item[lat] 654844.629503313\n",
       "\\item[long] -294298.969138102\n",
       "\\item[bed\\textbackslash{}\\_bath\\textbackslash{}\\_rooms] 25579.6520007522\n",
       "\\end{description*}\n"
      ],
      "text/markdown": [
       "(Intercept)\n",
       ":   -66867968.8710775sqft_living\n",
       ":   306.610053459003bedrooms\n",
       ":   -113446.368070204bathrooms\n",
       ":   -71461.3082927578lat\n",
       ":   654844.629503313long\n",
       ":   -294298.969138102bed_bath_rooms\n",
       ":   25579.6520007522\n",
       "\n"
      ],
      "text/plain": [
       "   (Intercept)    sqft_living       bedrooms      bathrooms            lat \n",
       " -6.686797e+07   3.066101e+02  -1.134464e+05  -7.146131e+04   6.548446e+05 \n",
       "          long bed_bath_rooms \n",
       " -2.942990e+05   2.557965e+04 "
      ]
     },
     "metadata": {},
     "output_type": "display_data"
    },
    {
     "data": {
      "text/html": [
       "<dl class=dl-horizontal>\n",
       "\t<dt>(Intercept)</dt>\n",
       "\t\t<dd>-62036084.9860949</dd>\n",
       "\t<dt>sqft_living</dt>\n",
       "\t\t<dd>529.42281964654</dd>\n",
       "\t<dt>bedrooms</dt>\n",
       "\t\t<dd>34514.2295779781</dd>\n",
       "\t<dt>bathrooms</dt>\n",
       "\t\t<dd>67060.7813189166</dd>\n",
       "\t<dt>lat</dt>\n",
       "\t\t<dd>661420.510873967</dd>\n",
       "\t<dt>long</dt>\n",
       "\t\t<dd>-279415.810854548</dd>\n",
       "\t<dt>bed_bath_rooms</dt>\n",
       "\t\t<dd>-8570.50439463213</dd>\n",
       "\t<dt>bedrooms_squared</dt>\n",
       "\t\t<dd>-6788.58667033846</dd>\n",
       "\t<dt>log_sqft_living</dt>\n",
       "\t\t<dd>-561831.484075515</dd>\n",
       "\t<dt>lat_plus_long</dt>\n",
       "\t\t<dd>NA</dd>\n",
       "</dl>\n"
      ],
      "text/latex": [
       "\\begin{description*}\n",
       "\\item[(Intercept)] -62036084.9860949\n",
       "\\item[sqft\\textbackslash{}\\_living] 529.42281964654\n",
       "\\item[bedrooms] 34514.2295779781\n",
       "\\item[bathrooms] 67060.7813189166\n",
       "\\item[lat] 661420.510873967\n",
       "\\item[long] -279415.810854548\n",
       "\\item[bed\\textbackslash{}\\_bath\\textbackslash{}\\_rooms] -8570.50439463213\n",
       "\\item[bedrooms\\textbackslash{}\\_squared] -6788.58667033846\n",
       "\\item[log\\textbackslash{}\\_sqft\\textbackslash{}\\_living] -561831.484075515\n",
       "\\item[lat\\textbackslash{}\\_plus\\textbackslash{}\\_long] NA\n",
       "\\end{description*}\n"
      ],
      "text/markdown": [
       "(Intercept)\n",
       ":   -62036084.9860949sqft_living\n",
       ":   529.42281964654bedrooms\n",
       ":   34514.2295779781bathrooms\n",
       ":   67060.7813189166lat\n",
       ":   661420.510873967long\n",
       ":   -279415.810854548bed_bath_rooms\n",
       ":   -8570.50439463213bedrooms_squared\n",
       ":   -6788.58667033846log_sqft_living\n",
       ":   -561831.484075515lat_plus_long\n",
       ":   NA\n",
       "\n"
      ],
      "text/plain": [
       "     (Intercept)      sqft_living         bedrooms        bathrooms \n",
       "   -6.203608e+07     5.294228e+02     3.451423e+04     6.706078e+04 \n",
       "             lat             long   bed_bath_rooms bedrooms_squared \n",
       "    6.614205e+05    -2.794158e+05    -8.570504e+03    -6.788587e+03 \n",
       " log_sqft_living    lat_plus_long \n",
       "   -5.618315e+05               NA "
      ]
     },
     "metadata": {},
     "output_type": "display_data"
    }
   ],
   "source": [
    "model.1 <- lm(model.1.formula, train)\n",
    "model.2 <- lm(model.2.formula, train)\n",
    "model.3 <- lm(model.3.formula, train)\n",
    "model.1$coefficients\n",
    "model.2$coefficients\n",
    "model.3$coefficients\n",
    "#the coefficient of lat_plus_long in model.3 is NA because of Colinearity. It is linearly dependent on the other features"
   ]
  },
  {
   "cell_type": "code",
   "execution_count": 12,
   "metadata": {
    "collapsed": false
   },
   "outputs": [
    {
     "data": {
      "text/html": [
       "<strong>bathrooms:</strong> 15706.7420827384"
      ],
      "text/latex": [
       "\\textbf{bathrooms:} 15706.7420827384"
      ],
      "text/markdown": [
       "**bathrooms:** 15706.7420827384"
      ],
      "text/plain": [
       "bathrooms \n",
       " 15706.74 "
      ]
     },
     "metadata": {},
     "output_type": "display_data"
    },
    {
     "data": {
      "text/html": [
       "<strong>bathrooms:</strong> -71461.3082927578"
      ],
      "text/latex": [
       "\\textbf{bathrooms:} -71461.3082927578"
      ],
      "text/markdown": [
       "**bathrooms:** -71461.3082927578"
      ],
      "text/plain": [
       "bathrooms \n",
       "-71461.31 "
      ]
     },
     "metadata": {},
     "output_type": "display_data"
    }
   ],
   "source": [
    "#6 sign for coefficent for bathrooms in model 1?\n",
    "model.1$coefficients[3] #POSITIVE\n",
    "model.2$coefficients[4] #Negative"
   ]
  },
  {
   "cell_type": "markdown",
   "metadata": {},
   "source": [
    "# Comparing multiple models\n",
    "\n",
    "Now that you've learned three models and extracted the model weights we want to evaluate which model is best.\n",
    "\n",
    "First use your functions from earlier to compute the RSS on TRAINING Data for each of the three models."
   ]
  },
  {
   "cell_type": "code",
   "execution_count": 13,
   "metadata": {
    "collapsed": false
   },
   "outputs": [
    {
     "name": "stderr",
     "output_type": "stream",
     "text": [
      "Warning message in predict.lm(model, data):\n",
      "\"prediction from a rank-deficient fit may be misleading\""
     ]
    }
   ],
   "source": [
    "#Compute multiple models\n",
    "rss.model.1.train <- get_residual_sum_of_square(model.1,train,train$price)\n",
    "rss.model.2.train <- get_residual_sum_of_square(model.2,train,train$price)\n",
    "rss.model.3.train <- get_residual_sum_of_square(model.3,train,train$price)"
   ]
  },
  {
   "cell_type": "markdown",
   "metadata": {},
   "source": [
    "**Quiz Question: Which model (1, 2 or 3) has lowest RSS on TRAINING Data?** Is this what you expected?"
   ]
  },
  {
   "cell_type": "code",
   "execution_count": 14,
   "metadata": {
    "collapsed": false
   },
   "outputs": [
    {
     "data": {
      "text/html": [
       "967879963049546"
      ],
      "text/latex": [
       "967879963049546"
      ],
      "text/markdown": [
       "967879963049546"
      ],
      "text/plain": [
       "[1] 9.6788e+14"
      ]
     },
     "metadata": {},
     "output_type": "display_data"
    },
    {
     "data": {
      "text/html": [
       "958419635074070"
      ],
      "text/latex": [
       "958419635074070"
      ],
      "text/markdown": [
       "958419635074070"
      ],
      "text/plain": [
       "[1] 9.584196e+14"
      ]
     },
     "metadata": {},
     "output_type": "display_data"
    },
    {
     "data": {
      "text/html": [
       "903436455050478"
      ],
      "text/latex": [
       "903436455050478"
      ],
      "text/markdown": [
       "903436455050478"
      ],
      "text/plain": [
       "[1] 9.034365e+14"
      ]
     },
     "metadata": {},
     "output_type": "display_data"
    }
   ],
   "source": [
    "rss.model.1.train\n",
    "rss.model.2.train\n",
    "rss.model.3.train"
   ]
  },
  {
   "cell_type": "markdown",
   "metadata": {},
   "source": [
    "Now compute the RSS on on TEST data for each of the three models."
   ]
  },
  {
   "cell_type": "code",
   "execution_count": 15,
   "metadata": {
    "collapsed": false
   },
   "outputs": [
    {
     "name": "stderr",
     "output_type": "stream",
     "text": [
      "Warning message in predict.lm(model, data):\n",
      "\"prediction from a rank-deficient fit may be misleading\""
     ]
    }
   ],
   "source": [
    "rss.model.1.test <- get_residual_sum_of_square(model.1,test,test$price)\n",
    "rss.model.2.test <- get_residual_sum_of_square(model.2,test,test$price)\n",
    "rss.model.3.test <- get_residual_sum_of_square(model.3,test,test$price)"
   ]
  },
  {
   "cell_type": "code",
   "execution_count": 16,
   "metadata": {
    "collapsed": false
   },
   "outputs": [
    {
     "data": {
      "text/html": [
       "225500469795493"
      ],
      "text/latex": [
       "225500469795493"
      ],
      "text/markdown": [
       "225500469795493"
      ],
      "text/plain": [
       "[1] 2.255005e+14"
      ]
     },
     "metadata": {},
     "output_type": "display_data"
    },
    {
     "data": {
      "text/html": [
       "223377462976469"
      ],
      "text/latex": [
       "223377462976469"
      ],
      "text/markdown": [
       "223377462976469"
      ],
      "text/plain": [
       "[1] 2.233775e+14"
      ]
     },
     "metadata": {},
     "output_type": "display_data"
    },
    {
     "data": {
      "text/html": [
       "259236319207160"
      ],
      "text/latex": [
       "259236319207160"
      ],
      "text/markdown": [
       "259236319207160"
      ],
      "text/plain": [
       "[1] 2.592363e+14"
      ]
     },
     "metadata": {},
     "output_type": "display_data"
    }
   ],
   "source": [
    "rss.model.1.test\n",
    "rss.model.2.test\n",
    "rss.model.3.test"
   ]
  },
  {
   "cell_type": "markdown",
   "metadata": {},
   "source": [
    "**Quiz Question: Which model (1, 2 or 3) has lowest RSS on TESTING Data?** Is this what you expected? Think about the features that were added to each model from the previous."
   ]
  },
  {
   "cell_type": "code",
   "execution_count": null,
   "metadata": {
    "collapsed": true
   },
   "outputs": [],
   "source": []
  }
 ],
 "metadata": {
  "kernelspec": {
   "display_name": "R",
   "language": "R",
   "name": "ir"
  },
  "language_info": {
   "codemirror_mode": "r",
   "file_extension": ".r",
   "mimetype": "text/x-r-source",
   "name": "R",
   "pygments_lexer": "r",
   "version": "3.3.2"
  }
 },
 "nbformat": 4,
 "nbformat_minor": 2
}
