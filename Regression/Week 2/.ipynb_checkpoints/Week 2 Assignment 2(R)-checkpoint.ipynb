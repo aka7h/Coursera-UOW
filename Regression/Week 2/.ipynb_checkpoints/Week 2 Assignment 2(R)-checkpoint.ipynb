{
 "cells": [
  {
   "cell_type": "markdown",
   "metadata": {},
   "source": [
    "# Regression Week 2: Multiple Regression (gradient descent)"
   ]
  },
  {
   "cell_type": "markdown",
   "metadata": {},
   "source": [
    "In the first notebook we explored multiple regression using graphlab create. Now we will use graphlab along with numpy to solve for the regression weights with gradient descent.\n",
    "\n",
    "In this notebook we will cover estimating multiple regression weights via gradient descent. You will:\n",
    "* Add a constant column of 1's to a graphlab SFrame to account for the intercept\n",
    "* Convert an SFrame into a Numpy array\n",
    "* Write a predict_output() function using Numpy\n",
    "* Write a numpy function to compute the derivative of the regression weights with respect to a single feature\n",
    "* Write gradient descent function to compute the regression weights given an initial weight vector, step size and tolerance.\n",
    "* Use the gradient descent function to estimate regression weights for multiple features"
   ]
  },
  {
   "cell_type": "markdown",
   "metadata": {},
   "source": [
    "# Load in house sales data\n",
    "\n",
    "Dataset is from house sales in King County, the region where the city of Seattle, WA is located."
   ]
  },
  {
   "cell_type": "code",
   "execution_count": 1,
   "metadata": {
    "collapsed": true
   },
   "outputs": [],
   "source": [
    "train <- read.csv('kc_house_train_data.csv', header = TRUE)\n",
    "test <- read.csv('kc_house_test_data.csv', header = TRUE)\n",
    "sales <- rbind(train,test)"
   ]
  },
  {
   "cell_type": "markdown",
   "metadata": {
    "collapsed": true
   },
   "source": [
    "If we want to do any \"feature engineering\" like creating new features or adjusting existing ones we should do this directly using the SFrames as seen in the other Week 2 notebook. For this notebook, however, we will work with the existing features."
   ]
  },
  {
   "cell_type": "markdown",
   "metadata": {
    "collapsed": true
   },
   "source": [
    "# Convert to Matrix Vector"
   ]
  },
  {
   "cell_type": "markdown",
   "metadata": {},
   "source": [
    "Now we will write a function that will accept an SFrame, a list of feature names (e.g. ['sqft_living', 'bedrooms']) and an target feature e.g. ('price') and will return two things:\n",
    "* A numpy matrix whose columns are the desired features plus a constant column (this is how we create an 'intercept')\n",
    "* A numpy array containing the values of the output\n",
    "\n",
    "With this in mind, complete the following function (where there's an empty line you should write a line of code that does what the comment above indicates)\n",
    "\n",
    "**Please note you will need GraphLab Create version at least 1.7.1 in order for .to_numpy() to work!**"
   ]
  },
  {
   "cell_type": "code",
   "execution_count": 2,
   "metadata": {
    "collapsed": true
   },
   "outputs": [],
   "source": [
    "get_matrix_data <- function(data_dframe, features, output){\n",
    "    data_dframe$constant = 1\n",
    "    features = c('constant',features)\n",
    "    feature_dframe = data_dframe[,features]\n",
    "    feature_matrix = data.matrix(feature_dframe)\n",
    "    \n",
    "    output_dframe = data_dframe[,output]\n",
    "    output_matrix = data.matrix(output_dframe)\n",
    "    return (list('feature_matrix'=feature_matrix,'output_matrix'=output_matrix))\n",
    "}"
   ]
  },
  {
   "cell_type": "markdown",
   "metadata": {},
   "source": [
    "For testing let's use the 'sqft_living' feature and a constant as our features and price as our output:"
   ]
  },
  {
   "cell_type": "code",
   "execution_count": 3,
   "metadata": {
    "collapsed": false
   },
   "outputs": [
    {
     "data": {
      "text/html": [
       "<dl class=dl-horizontal>\n",
       "\t<dt>constant</dt>\n",
       "\t\t<dd>1</dd>\n",
       "\t<dt>sqft_living</dt>\n",
       "\t\t<dd>1180</dd>\n",
       "</dl>\n"
      ],
      "text/latex": [
       "\\begin{description*}\n",
       "\\item[constant] 1\n",
       "\\item[sqft\\textbackslash{}\\_living] 1180\n",
       "\\end{description*}\n"
      ],
      "text/markdown": [
       "constant\n",
       ":   1sqft_living\n",
       ":   1180\n",
       "\n"
      ],
      "text/plain": [
       "   constant sqft_living \n",
       "          1        1180 "
      ]
     },
     "metadata": {},
     "output_type": "display_data"
    },
    {
     "data": {
      "text/html": [
       "221900"
      ],
      "text/latex": [
       "221900"
      ],
      "text/markdown": [
       "221900"
      ],
      "text/plain": [
       "[1] 221900"
      ]
     },
     "metadata": {},
     "output_type": "display_data"
    }
   ],
   "source": [
    "example = get_matrix_data(train,'sqft_living','price')\n",
    "example$feature_matrix[1,]\n",
    "example$output_matrix[1]"
   ]
  },
  {
   "cell_type": "markdown",
   "metadata": {
    "collapsed": false
   },
   "source": [
    "# Predicting output given regression weights\n",
    "\n",
    "Suppose we had the weights [1.0, 1.0] and the features [1.0, 1180.0] and we wanted to compute the predicted output 1.0\\*1.0 + 1.0\\*1180.0 = 1181.0 this is the dot product between these two arrays. If they're vectors we can use np.dot() to compute this:"
   ]
  },
  {
   "cell_type": "code",
   "execution_count": 4,
   "metadata": {
    "collapsed": false
   },
   "outputs": [
    {
     "data": {
      "text/html": [
       "1181"
      ],
      "text/latex": [
       "1181"
      ],
      "text/markdown": [
       "1181"
      ],
      "text/plain": [
       "[1] 1181"
      ]
     },
     "metadata": {},
     "output_type": "display_data"
    }
   ],
   "source": [
    "#Predicting output given regression weights\n",
    "my_weight = as.matrix(c(1,1))\n",
    "my_feature = example$feature_matrix[1,]\n",
    "predicted_value = sum(my_feature %*% my_weight)\n",
    "predicted_value"
   ]
  },
  {
   "cell_type": "markdown",
   "metadata": {},
   "source": [
    "Recall that the predictions from all the observations is just the RIGHT (as in weights on the right) dot product between the features *matrix* and the weights *vector*. With this in mind finish the following predict_output function to compute the predictions for an entire matrix of features given the matrix and the weights:"
   ]
  },
  {
   "cell_type": "code",
   "execution_count": 5,
   "metadata": {
    "collapsed": false
   },
   "outputs": [],
   "source": [
    "#predict output\n",
    "predict_output <- function(feature_matrix, weights){\n",
    "    # assume feature_matrix is a numpy matrix containing the features as columns and weights is a corresponding numpy array\n",
    "    # create the predictions vector by using np.dot()\n",
    "    predictions = feature_matrix %*% weights\n",
    "    return(predictions)\n",
    "}"
   ]
  },
  {
   "cell_type": "code",
   "execution_count": 6,
   "metadata": {
    "collapsed": false
   },
   "outputs": [
    {
     "name": "stdout",
     "output_type": "stream",
     "text": [
      "[1] 1181\n",
      "[1] 2571\n"
     ]
    }
   ],
   "source": [
    "test_predictions = predict_output(example$feature_matrix, my_weight)\n",
    "print(test_predictions[1]) # should be 1181.0\n",
    "print(test_predictions[2]) # should be 2571.0\n"
   ]
  },
  {
   "cell_type": "markdown",
   "metadata": {},
   "source": [
    "# Computing the Derivative\n",
    "\n",
    "We are now going to move to computing the derivative of the regression cost function. Recall that the cost function is the sum over the data points of the squared difference between an observed output and a predicted output.\n",
    "\n",
    "Since the derivative of a sum is the sum of the derivatives we can compute the derivative for a single data point and then sum over data points. We can write the squared difference between the observed output and predicted output for a single point as follows:\n",
    "\n",
    "(w[0]\\*[CONSTANT] + w[1]\\*[feature_1] + ... + w[i] \\*[feature_i] + ... +  w[k]\\*[feature_k] - output)^2\n",
    "\n",
    "Where we have k features and a constant. So the derivative with respect to weight w[i] by the chain rule is:\n",
    "\n",
    "2\\*(w[0]\\*[CONSTANT] + w[1]\\*[feature_1] + ... + w[i] \\*[feature_i] + ... +  w[k]\\*[feature_k] - output)\\* [feature_i]\n",
    "\n",
    "The term inside the paranethesis is just the error (difference between prediction and output). So we can re-write this as:\n",
    "\n",
    "2\\*error\\*[feature_i]\n",
    "\n",
    "That is, the derivative for the weight for feature i is the sum (over data points) of 2 times the product of the error and the feature itself. In the case of the constant then this is just twice the sum of the errors!\n",
    "\n",
    "Recall that twice the sum of the product of two vectors is just twice the dot product of the two vectors. Therefore the derivative for the weight for feature_i is just two times the dot product between the values of feature_i and the current errors. \n",
    "\n",
    "With this in mind complete the following derivative function which computes the derivative of the weight given the value of the feature (over all data points) and the errors (over all data points)."
   ]
  },
  {
   "cell_type": "code",
   "execution_count": 7,
   "metadata": {
    "collapsed": false
   },
   "outputs": [],
   "source": [
    "# Computing the Derivative\n",
    "feature_derivative <- function(err,feat){\n",
    "    derivatives = 2*(err * feat)\n",
    "    return(sum(derivatives))\n",
    "}"
   ]
  },
  {
   "cell_type": "code",
   "execution_count": 8,
   "metadata": {
    "collapsed": false
   },
   "outputs": [
    {
     "data": {
      "text/html": [
       "-23345850016"
      ],
      "text/latex": [
       "-23345850016"
      ],
      "text/markdown": [
       "-23345850016"
      ],
      "text/plain": [
       "[1] -23345850016"
      ]
     },
     "metadata": {},
     "output_type": "display_data"
    },
    {
     "data": {
      "text/html": [
       "-23345850016"
      ],
      "text/latex": [
       "-23345850016"
      ],
      "text/markdown": [
       "-23345850016"
      ],
      "text/plain": [
       "[1] -23345850016"
      ]
     },
     "metadata": {},
     "output_type": "display_data"
    }
   ],
   "source": [
    "example = get_matrix_data(sales, 'sqft_living','price')\n",
    "my_weight = as.matrix(c(0,0))\n",
    "test_predictions = predict_output(example$feature_matrix, my_weight)\n",
    "errors = test_predictions - example$output_matrix\n",
    "feature = example$feature_matrix[,1]\n",
    "derivative = feature_derivative(errors,feature)\n",
    "derivative\n",
    "sum(-example$output_matrix)*2"
   ]
  },
  {
   "cell_type": "markdown",
   "metadata": {
    "collapsed": false
   },
   "source": [
    "# Gradient Descent"
   ]
  },
  {
   "cell_type": "markdown",
   "metadata": {
    "collapsed": false
   },
   "source": [
    "Now we will write a function that performs a gradient descent. The basic premise is simple. Given a starting point we update the current weights by moving in the negative gradient direction. Recall that the gradient is the direction of *increase* and therefore the negative gradient is the direction of *decrease* and we're trying to *minimize* a cost function. \n",
    "\n",
    "The amount by which we move in the negative gradient *direction*  is called the 'step size'. We stop when we are 'sufficiently close' to the optimum. We define this by requiring that the magnitude (length) of the gradient vector to be smaller than a fixed 'tolerance'.\n",
    "\n",
    "With this in mind, complete the following gradient descent function below using your derivative function above. For each step in the gradient descent we update the weight for each feature befofe computing our stopping criteria"
   ]
  },
  {
   "cell_type": "code",
   "execution_count": 9,
   "metadata": {
    "collapsed": false
   },
   "outputs": [],
   "source": [
    "#GRADIENT DECENT\n",
    "regression_gradient_decent <- function(feature_matrix, output, initial_weight,step_size, tolerance){\n",
    "    converged = FALSE\n",
    "    weights = initial_weight\n",
    "    while(!(converged)){\n",
    "        # compute the predictions based on feature_matrix and weights using your predict_output() function\n",
    "        predictions = predict_output(feature_matrix, weights)\n",
    "        # compute the errors as predictions - output\n",
    "        error = predictions - output\n",
    "        gradient_sum_square = 0 # initialize the gradient sum of squares\n",
    "        # while we haven't reached the tolerance yet, update each feature's weight\n",
    "        for(i in 1:length(weights)){\n",
    "            # Recall that feature_matrix[:, i] is the feature column associated with weights[i]\n",
    "            # compute the derivative for weight[i]:\n",
    "            derivative =  feature_derivative(error,feature_matrix[,i])\n",
    "            # add the squared value of the derivative to the gradient sum of squares (for assessing convergence)\n",
    "            gradient_sum_square = gradient_sum_square+(derivative**2)\n",
    "            # subtract the step size times the derivative from the current weight\n",
    "            weights[i] =weights[i]-(step_size*derivative)\n",
    "        }\n",
    "        # compute the square-root of the gradient sum of squares to get the gradient magnitude:\n",
    "        gradient_magnitude = sqrt(gradient_sum_square)\n",
    "        if(gradient_magnitude < tolerance){\n",
    "            converged = TRUE\n",
    "        } \n",
    "    }\n",
    "    return(weights)\n",
    "}"
   ]
  },
  {
   "cell_type": "markdown",
   "metadata": {},
   "source": [
    "A few things to note before we run the gradient descent. Since the gradient is a sum over all the data points and involves a product of an error and a feature the gradient itself will be very large since the features are large (squarefeet) and the output is large (prices). So while you might expect \"tolerance\" to be small, small is only relative to the size of the features. \n",
    "\n",
    "For similar reasons the step size will be much smaller than you might expect but this is because the gradient has such large values."
   ]
  },
  {
   "cell_type": "markdown",
   "metadata": {},
   "source": [
    "# Running the Gradient Descent as Simple Regression"
   ]
  },
  {
   "cell_type": "markdown",
   "metadata": {},
   "source": [
    "Although the gradient descent is designed for multiple regression since the constant is now a feature we can use the gradient descent function to estimat the parameters in the simple regression on squarefeet. The folowing cell sets up the feature_matrix, output, initial weights and step size for the first model:"
   ]
  },
  {
   "cell_type": "code",
   "execution_count": 10,
   "metadata": {
    "collapsed": false
   },
   "outputs": [],
   "source": [
    "#RUNNING GRADIENT DECENT\n",
    "simple_feature <- 'sqft_living'\n",
    "my_output <- 'price'\n",
    "simple_matrix <- get_matrix_data(train,simple_feature,my_output)\n",
    "initial_weight = c(-47000,1)\n",
    "step_size=7e-12\n",
    "tolerance = 2.5e7"
   ]
  },
  {
   "cell_type": "markdown",
   "metadata": {},
   "source": [
    "Next run your gradient descent with the above parameters."
   ]
  },
  {
   "cell_type": "code",
   "execution_count": 11,
   "metadata": {
    "collapsed": false
   },
   "outputs": [
    {
     "data": {
      "text/html": [
       "<ol class=list-inline>\n",
       "\t<li>-46999.8871655467</li>\n",
       "\t<li>281.912119175209</li>\n",
       "</ol>\n"
      ],
      "text/latex": [
       "\\begin{enumerate*}\n",
       "\\item -46999.8871655467\n",
       "\\item 281.912119175209\n",
       "\\end{enumerate*}\n"
      ],
      "text/markdown": [
       "1. -46999.8871655467\n",
       "2. 281.912119175209\n",
       "\n",
       "\n"
      ],
      "text/plain": [
       "[1] -46999.8872    281.9121"
      ]
     },
     "metadata": {},
     "output_type": "display_data"
    }
   ],
   "source": [
    "test_weight = regression_gradient_decent(simple_matrix$feature_matrix, simple_matrix$output_matrix,initial_weight,step_size,tolerance)\n",
    "test_weight"
   ]
  },
  {
   "cell_type": "markdown",
   "metadata": {
    "collapsed": true
   },
   "source": [
    "How do your weights compare to those achieved in week 1 (don't expect them to be exactly the same)? \n",
    "\n",
    "**Quiz Question: What is the value of the weight for sqft_living -- the second element of ‘simple_weights’ (rounded to 1 decimal place)?**\n",
    "\n",
    "Use your newly estimated weights and your predict_output() function to compute the predictions on all the TEST data (you will need to create a numpy array of the test feature_matrix and test output first:"
   ]
  },
  {
   "cell_type": "code",
   "execution_count": 12,
   "metadata": {
    "collapsed": true
   },
   "outputs": [],
   "source": [
    "test_matrix <- get_matrix_data(test,'sqft_living','price')"
   ]
  },
  {
   "cell_type": "markdown",
   "metadata": {},
   "source": [
    "Now compute your predictions using test_simple_feature_matrix and your weights from above."
   ]
  },
  {
   "cell_type": "code",
   "execution_count": 13,
   "metadata": {
    "collapsed": false
   },
   "outputs": [
    {
     "data": {
      "text/html": [
       "<table>\n",
       "<tbody>\n",
       "\t<tr><td> 356134.4</td></tr>\n",
       "\t<tr><td> 784640.9</td></tr>\n",
       "\t<tr><td> 435069.8</td></tr>\n",
       "\t<tr><td> 607036.2</td></tr>\n",
       "\t<tr><td> 260284.3</td></tr>\n",
       "\t<tr><td> 691609.9</td></tr>\n",
       "\t<tr><td>1142669.3</td></tr>\n",
       "\t<tr><td> 587302.4</td></tr>\n",
       "\t<tr><td> 308209.4</td></tr>\n",
       "\t<tr><td> 728258.4</td></tr>\n",
       "\t<tr><td> 457622.8</td></tr>\n",
       "\t<tr><td> 488633.1</td></tr>\n",
       "\t<tr><td> 511186.1</td></tr>\n",
       "\t<tr><td> 505547.9</td></tr>\n",
       "\t<tr><td> 525281.7</td></tr>\n",
       "\t<tr><td> 863576.3</td></tr>\n",
       "\t<tr><td> 773364.4</td></tr>\n",
       "\t<tr><td> 282837.3</td></tr>\n",
       "\t<tr><td> 747992.3</td></tr>\n",
       "\t<tr><td> 251827.0</td></tr>\n",
       "\t<tr><td> 671876.0</td></tr>\n",
       "\t<tr><td> 305390.3</td></tr>\n",
       "\t<tr><td> 533739.1</td></tr>\n",
       "\t<tr><td> 522462.6</td></tr>\n",
       "\t<tr><td> 708524.6</td></tr>\n",
       "\t<tr><td> 392783.0</td></tr>\n",
       "\t<tr><td>1046819.1</td></tr>\n",
       "\t<tr><td> 268741.7</td></tr>\n",
       "\t<tr><td> 423793.4</td></tr>\n",
       "\t<tr><td> 499909.6</td></tr>\n",
       "\t<tr><td>...</td></tr>\n",
       "\t<tr><td> 716418.1</td></tr>\n",
       "\t<tr><td> 511186.1</td></tr>\n",
       "\t<tr><td> 330762.4</td></tr>\n",
       "\t<tr><td> 240550.5</td></tr>\n",
       "\t<tr><td> 609855.4</td></tr>\n",
       "\t<tr><td>1049638.3</td></tr>\n",
       "\t<tr><td> 860757.1</td></tr>\n",
       "\t<tr><td> 846661.5</td></tr>\n",
       "\t<tr><td> 714162.8</td></tr>\n",
       "\t<tr><td> 468899.3</td></tr>\n",
       "\t<tr><td> 265922.6</td></tr>\n",
       "\t<tr><td>1404847.5</td></tr>\n",
       "\t<tr><td> 646503.9</td></tr>\n",
       "\t<tr><td>1165222.2</td></tr>\n",
       "\t<tr><td> 886129.2</td></tr>\n",
       "\t<tr><td> 280018.2</td></tr>\n",
       "\t<tr><td> 556292.0</td></tr>\n",
       "\t<tr><td> 572643.0</td></tr>\n",
       "\t<tr><td> 401240.4</td></tr>\n",
       "\t<tr><td> 649323.0</td></tr>\n",
       "\t<tr><td>1032723.5</td></tr>\n",
       "\t<tr><td> 823262.8</td></tr>\n",
       "\t<tr><td> 488633.1</td></tr>\n",
       "\t<tr><td> 375868.3</td></tr>\n",
       "\t<tr><td> 153157.7</td></tr>\n",
       "\t<tr><td>1128573.6</td></tr>\n",
       "\t<tr><td> 657780.4</td></tr>\n",
       "\t<tr><td> 663418.7</td></tr>\n",
       "\t<tr><td> 604217.1</td></tr>\n",
       "\t<tr><td> 240550.5</td></tr>\n",
       "</tbody>\n",
       "</table>\n"
      ],
      "text/latex": [
       "\\begin{tabular}{l}\n",
       "\t  356134.4\\\\\n",
       "\t  784640.9\\\\\n",
       "\t  435069.8\\\\\n",
       "\t  607036.2\\\\\n",
       "\t  260284.3\\\\\n",
       "\t  691609.9\\\\\n",
       "\t 1142669.3\\\\\n",
       "\t  587302.4\\\\\n",
       "\t  308209.4\\\\\n",
       "\t  728258.4\\\\\n",
       "\t  457622.8\\\\\n",
       "\t  488633.1\\\\\n",
       "\t  511186.1\\\\\n",
       "\t  505547.9\\\\\n",
       "\t  525281.7\\\\\n",
       "\t  863576.3\\\\\n",
       "\t  773364.4\\\\\n",
       "\t  282837.3\\\\\n",
       "\t  747992.3\\\\\n",
       "\t  251827.0\\\\\n",
       "\t  671876.0\\\\\n",
       "\t  305390.3\\\\\n",
       "\t  533739.1\\\\\n",
       "\t  522462.6\\\\\n",
       "\t  708524.6\\\\\n",
       "\t  392783.0\\\\\n",
       "\t 1046819.1\\\\\n",
       "\t  268741.7\\\\\n",
       "\t  423793.4\\\\\n",
       "\t  499909.6\\\\\n",
       "\t ...\\\\\n",
       "\t  716418.1\\\\\n",
       "\t  511186.1\\\\\n",
       "\t  330762.4\\\\\n",
       "\t  240550.5\\\\\n",
       "\t  609855.4\\\\\n",
       "\t 1049638.3\\\\\n",
       "\t  860757.1\\\\\n",
       "\t  846661.5\\\\\n",
       "\t  714162.8\\\\\n",
       "\t  468899.3\\\\\n",
       "\t  265922.6\\\\\n",
       "\t 1404847.5\\\\\n",
       "\t  646503.9\\\\\n",
       "\t 1165222.2\\\\\n",
       "\t  886129.2\\\\\n",
       "\t  280018.2\\\\\n",
       "\t  556292.0\\\\\n",
       "\t  572643.0\\\\\n",
       "\t  401240.4\\\\\n",
       "\t  649323.0\\\\\n",
       "\t 1032723.5\\\\\n",
       "\t  823262.8\\\\\n",
       "\t  488633.1\\\\\n",
       "\t  375868.3\\\\\n",
       "\t  153157.7\\\\\n",
       "\t 1128573.6\\\\\n",
       "\t  657780.4\\\\\n",
       "\t  663418.7\\\\\n",
       "\t  604217.1\\\\\n",
       "\t  240550.5\\\\\n",
       "\\end{tabular}\n"
      ],
      "text/markdown": [
       "\n",
       "|  356134.4 | \n",
       "|  784640.9 | \n",
       "|  435069.8 | \n",
       "|  607036.2 | \n",
       "|  260284.3 | \n",
       "|  691609.9 | \n",
       "| 1142669.3 | \n",
       "|  587302.4 | \n",
       "|  308209.4 | \n",
       "|  728258.4 | \n",
       "|  457622.8 | \n",
       "|  488633.1 | \n",
       "|  511186.1 | \n",
       "|  505547.9 | \n",
       "|  525281.7 | \n",
       "|  863576.3 | \n",
       "|  773364.4 | \n",
       "|  282837.3 | \n",
       "|  747992.3 | \n",
       "|  251827.0 | \n",
       "|  671876.0 | \n",
       "|  305390.3 | \n",
       "|  533739.1 | \n",
       "|  522462.6 | \n",
       "|  708524.6 | \n",
       "|  392783.0 | \n",
       "| 1046819.1 | \n",
       "|  268741.7 | \n",
       "|  423793.4 | \n",
       "|  499909.6 | \n",
       "| ... | \n",
       "|  716418.1 | \n",
       "|  511186.1 | \n",
       "|  330762.4 | \n",
       "|  240550.5 | \n",
       "|  609855.4 | \n",
       "| 1049638.3 | \n",
       "|  860757.1 | \n",
       "|  846661.5 | \n",
       "|  714162.8 | \n",
       "|  468899.3 | \n",
       "|  265922.6 | \n",
       "| 1404847.5 | \n",
       "|  646503.9 | \n",
       "| 1165222.2 | \n",
       "|  886129.2 | \n",
       "|  280018.2 | \n",
       "|  556292.0 | \n",
       "|  572643.0 | \n",
       "|  401240.4 | \n",
       "|  649323.0 | \n",
       "| 1032723.5 | \n",
       "|  823262.8 | \n",
       "|  488633.1 | \n",
       "|  375868.3 | \n",
       "|  153157.7 | \n",
       "| 1128573.6 | \n",
       "|  657780.4 | \n",
       "|  663418.7 | \n",
       "|  604217.1 | \n",
       "|  240550.5 | \n",
       "\n",
       "\n"
      ],
      "text/plain": [
       "      [,1]     \n",
       " [1,]  356134.4\n",
       " [2,]  784640.9\n",
       " [3,]  435069.8\n",
       " [4,]  607036.2\n",
       " [5,]  260284.3\n",
       " [6,]  691609.9\n",
       " [7,] 1142669.3\n",
       " [8,]  587302.4\n",
       " [9,]  308209.4\n",
       "[10,]  728258.4\n",
       "[11,]  457622.8\n",
       "[12,]  488633.1\n",
       "[13,]  511186.1\n",
       "[14,]  505547.9\n",
       "[15,]  525281.7\n",
       "[16,]  863576.3\n",
       "[17,]  773364.4\n",
       "[18,]  282837.3\n",
       "[19,]  747992.3\n",
       "[20,]  251827.0\n",
       "[21,]  671876.0\n",
       "[22,]  305390.3\n",
       "[23,]  533739.1\n",
       "[24,]  522462.6\n",
       "[25,]  708524.6\n",
       "[26,]  392783.0\n",
       "[27,] 1046819.1\n",
       "[28,]  268741.7\n",
       "[29,]  423793.4\n",
       "[30,]  499909.6\n",
       "[31,] ...      \n",
       "[32,]  716418.1\n",
       "[33,]  511186.1\n",
       "[34,]  330762.4\n",
       "[35,]  240550.5\n",
       "[36,]  609855.4\n",
       "[37,] 1049638.3\n",
       "[38,]  860757.1\n",
       "[39,]  846661.5\n",
       "[40,]  714162.8\n",
       "[41,]  468899.3\n",
       "[42,]  265922.6\n",
       "[43,] 1404847.5\n",
       "[44,]  646503.9\n",
       "[45,] 1165222.2\n",
       "[46,]  886129.2\n",
       "[47,]  280018.2\n",
       "[48,]  556292.0\n",
       "[49,]  572643.0\n",
       "[50,]  401240.4\n",
       "[51,]  649323.0\n",
       "[52,] 1032723.5\n",
       "[53,]  823262.8\n",
       "[54,]  488633.1\n",
       "[55,]  375868.3\n",
       "[56,]  153157.7\n",
       "[57,] 1128573.6\n",
       "[58,]  657780.4\n",
       "[59,]  663418.7\n",
       "[60,]  604217.1\n",
       "[61,]  240550.5"
      ]
     },
     "metadata": {},
     "output_type": "display_data"
    }
   ],
   "source": [
    "test_prediction <- predict_output(test_matrix$feature_matrix,test_weight)\n",
    "test_prediction"
   ]
  },
  {
   "cell_type": "markdown",
   "metadata": {},
   "source": [
    "**Quiz Question: What is the predicted price for the 1st house in the TEST data set for model 1 (round to nearest dollar)?**"
   ]
  },
  {
   "cell_type": "code",
   "execution_count": 14,
   "metadata": {
    "collapsed": false
   },
   "outputs": [
    {
     "data": {
      "text/html": [
       "356134.443255002"
      ],
      "text/latex": [
       "356134.443255002"
      ],
      "text/markdown": [
       "356134.443255002"
      ],
      "text/plain": [
       "[1] 356134.4"
      ]
     },
     "metadata": {},
     "output_type": "display_data"
    }
   ],
   "source": [
    "test_prediction[1]"
   ]
  },
  {
   "cell_type": "markdown",
   "metadata": {},
   "source": [
    "Now that you have the predictions on test data, compute the RSS on the test data set. Save this value for comparison later. Recall that RSS is the sum of the squared errors (difference between prediction and output)."
   ]
  },
  {
   "cell_type": "code",
   "execution_count": 15,
   "metadata": {
    "collapsed": false
   },
   "outputs": [
    {
     "data": {
      "text/html": [
       "275400044902128"
      ],
      "text/latex": [
       "275400044902128"
      ],
      "text/markdown": [
       "275400044902128"
      ],
      "text/plain": [
       "[1] 2.754e+14"
      ]
     },
     "metadata": {},
     "output_type": "display_data"
    }
   ],
   "source": [
    "test_residual <- test_prediction - test_matrix$output_matrix\n",
    "test_RSS = sum(test_residual*test_residual)\n",
    "test_RSS"
   ]
  },
  {
   "cell_type": "markdown",
   "metadata": {},
   "source": [
    "# Running a multiple regression\n",
    "\n",
    "Now we will use more than one actual feature. Use the following code to produce the weights for a second model with the following parameters:"
   ]
  },
  {
   "cell_type": "code",
   "execution_count": 16,
   "metadata": {
    "collapsed": false
   },
   "outputs": [],
   "source": [
    "feature <- c('sqft_living','sqft_living15')\n",
    "my_output <- 'price'\n",
    "matrix_test <- get_matrix_data(train,feature,my_output)\n",
    "initial_weight <- as.matrix(c(-100000,1,1))\n",
    "step_size <- 4e-12\n",
    "tolerance <- 1e+9"
   ]
  },
  {
   "cell_type": "markdown",
   "metadata": {},
   "source": [
    "Use the above parameters to estimate the model weights. Record these values for your quiz."
   ]
  },
  {
   "cell_type": "code",
   "execution_count": 17,
   "metadata": {
    "collapsed": false
   },
   "outputs": [
    {
     "data": {
      "text/html": [
       "<table>\n",
       "<tbody>\n",
       "\t<tr><td>-99999.96885</td></tr>\n",
       "\t<tr><td>   245.07260</td></tr>\n",
       "\t<tr><td>    65.27953</td></tr>\n",
       "</tbody>\n",
       "</table>\n"
      ],
      "text/latex": [
       "\\begin{tabular}{l}\n",
       "\t -99999.96885\\\\\n",
       "\t    245.07260\\\\\n",
       "\t     65.27953\\\\\n",
       "\\end{tabular}\n"
      ],
      "text/markdown": [
       "\n",
       "| -99999.96885 | \n",
       "|    245.07260 | \n",
       "|     65.27953 | \n",
       "\n",
       "\n"
      ],
      "text/plain": [
       "     [,1]        \n",
       "[1,] -99999.96885\n",
       "[2,]    245.07260\n",
       "[3,]     65.27953"
      ]
     },
     "metadata": {},
     "output_type": "display_data"
    }
   ],
   "source": [
    "weight_2 <- regression_gradient_decent(matrix_test$feature_matrix, matrix_test$output_matrix,initial_weight,step_size,tolerance)\n",
    "weight_2"
   ]
  },
  {
   "cell_type": "markdown",
   "metadata": {},
   "source": [
    "Use your newly estimated weights and the predict_output function to compute the predictions on the TEST data. Don't forget to create a numpy array for these features from the test set first!"
   ]
  },
  {
   "cell_type": "code",
   "execution_count": 18,
   "metadata": {
    "collapsed": true
   },
   "outputs": [],
   "source": [
    "matrix_test <- get_matrix_data(test,feature,my_output)"
   ]
  },
  {
   "cell_type": "code",
   "execution_count": 19,
   "metadata": {
    "collapsed": false
   },
   "outputs": [
    {
     "data": {
      "text/html": [
       "<table>\n",
       "<tbody>\n",
       "\t<tr><td> 366651.4</td></tr>\n",
       "\t<tr><td> 762662.4</td></tr>\n",
       "\t<tr><td> 386312.1</td></tr>\n",
       "\t<tr><td> 636989.7</td></tr>\n",
       "\t<tr><td> 269618.0</td></tr>\n",
       "\t<tr><td> 713122.6</td></tr>\n",
       "\t<tr><td>1091530.1</td></tr>\n",
       "\t<tr><td> 598292.3</td></tr>\n",
       "\t<tr><td> 293002.1</td></tr>\n",
       "\t<tr><td> 672521.8</td></tr>\n",
       "\t<tr><td> 465322.3</td></tr>\n",
       "\t<tr><td> 487710.7</td></tr>\n",
       "\t<tr><td> 514497.2</td></tr>\n",
       "\t<tr><td> 494581.5</td></tr>\n",
       "\t<tr><td> 560696.2</td></tr>\n",
       "\t<tr><td> 863922.5</td></tr>\n",
       "\t<tr><td> 789416.0</td></tr>\n",
       "\t<tr><td> 274862.3</td></tr>\n",
       "\t<tr><td> 775193.0</td></tr>\n",
       "\t<tr><td> 261613.1</td></tr>\n",
       "\t<tr><td> 668550.1</td></tr>\n",
       "\t<tr><td> 316010.4</td></tr>\n",
       "\t<tr><td> 470781.9</td></tr>\n",
       "\t<tr><td> 532786.5</td></tr>\n",
       "\t<tr><td> 747410.8</td></tr>\n",
       "\t<tr><td> 352162.4</td></tr>\n",
       "\t<tr><td>1095027.2</td></tr>\n",
       "\t<tr><td> 278275.8</td></tr>\n",
       "\t<tr><td> 418288.1</td></tr>\n",
       "\t<tr><td> 507958.3</td></tr>\n",
       "\t<tr><td>...</td></tr>\n",
       "\t<tr><td> 726986.0</td></tr>\n",
       "\t<tr><td> 479246.3</td></tr>\n",
       "\t<tr><td> 312607.9</td></tr>\n",
       "\t<tr><td> 238101.4</td></tr>\n",
       "\t<tr><td> 621162.1</td></tr>\n",
       "\t<tr><td> 958432.5</td></tr>\n",
       "\t<tr><td> 873222.1</td></tr>\n",
       "\t<tr><td> 886427.5</td></tr>\n",
       "\t<tr><td> 736645.2</td></tr>\n",
       "\t<tr><td> 465986.0</td></tr>\n",
       "\t<tr><td> 244490.9</td></tr>\n",
       "\t<tr><td>1354045.7</td></tr>\n",
       "\t<tr><td> 705898.0</td></tr>\n",
       "\t<tr><td>1257362.0</td></tr>\n",
       "\t<tr><td> 850888.5</td></tr>\n",
       "\t<tr><td> 267058.7</td></tr>\n",
       "\t<tr><td> 573292.7</td></tr>\n",
       "\t<tr><td> 582154.0</td></tr>\n",
       "\t<tr><td> 393459.9</td></tr>\n",
       "\t<tr><td> 651555.5</td></tr>\n",
       "\t<tr><td> 981590.3</td></tr>\n",
       "\t<tr><td> 847612.3</td></tr>\n",
       "\t<tr><td> 477266.0</td></tr>\n",
       "\t<tr><td> 362917.0</td></tr>\n",
       "\t<tr><td> 163434.5</td></tr>\n",
       "\t<tr><td>1119749.8</td></tr>\n",
       "\t<tr><td> 677838.7</td></tr>\n",
       "\t<tr><td> 682087.4</td></tr>\n",
       "\t<tr><td> 585579.3</td></tr>\n",
       "\t<tr><td> 216559.2</td></tr>\n",
       "</tbody>\n",
       "</table>\n"
      ],
      "text/latex": [
       "\\begin{tabular}{l}\n",
       "\t  366651.4\\\\\n",
       "\t  762662.4\\\\\n",
       "\t  386312.1\\\\\n",
       "\t  636989.7\\\\\n",
       "\t  269618.0\\\\\n",
       "\t  713122.6\\\\\n",
       "\t 1091530.1\\\\\n",
       "\t  598292.3\\\\\n",
       "\t  293002.1\\\\\n",
       "\t  672521.8\\\\\n",
       "\t  465322.3\\\\\n",
       "\t  487710.7\\\\\n",
       "\t  514497.2\\\\\n",
       "\t  494581.5\\\\\n",
       "\t  560696.2\\\\\n",
       "\t  863922.5\\\\\n",
       "\t  789416.0\\\\\n",
       "\t  274862.3\\\\\n",
       "\t  775193.0\\\\\n",
       "\t  261613.1\\\\\n",
       "\t  668550.1\\\\\n",
       "\t  316010.4\\\\\n",
       "\t  470781.9\\\\\n",
       "\t  532786.5\\\\\n",
       "\t  747410.8\\\\\n",
       "\t  352162.4\\\\\n",
       "\t 1095027.2\\\\\n",
       "\t  278275.8\\\\\n",
       "\t  418288.1\\\\\n",
       "\t  507958.3\\\\\n",
       "\t ...\\\\\n",
       "\t  726986.0\\\\\n",
       "\t  479246.3\\\\\n",
       "\t  312607.9\\\\\n",
       "\t  238101.4\\\\\n",
       "\t  621162.1\\\\\n",
       "\t  958432.5\\\\\n",
       "\t  873222.1\\\\\n",
       "\t  886427.5\\\\\n",
       "\t  736645.2\\\\\n",
       "\t  465986.0\\\\\n",
       "\t  244490.9\\\\\n",
       "\t 1354045.7\\\\\n",
       "\t  705898.0\\\\\n",
       "\t 1257362.0\\\\\n",
       "\t  850888.5\\\\\n",
       "\t  267058.7\\\\\n",
       "\t  573292.7\\\\\n",
       "\t  582154.0\\\\\n",
       "\t  393459.9\\\\\n",
       "\t  651555.5\\\\\n",
       "\t  981590.3\\\\\n",
       "\t  847612.3\\\\\n",
       "\t  477266.0\\\\\n",
       "\t  362917.0\\\\\n",
       "\t  163434.5\\\\\n",
       "\t 1119749.8\\\\\n",
       "\t  677838.7\\\\\n",
       "\t  682087.4\\\\\n",
       "\t  585579.3\\\\\n",
       "\t  216559.2\\\\\n",
       "\\end{tabular}\n"
      ],
      "text/markdown": [
       "\n",
       "|  366651.4 | \n",
       "|  762662.4 | \n",
       "|  386312.1 | \n",
       "|  636989.7 | \n",
       "|  269618.0 | \n",
       "|  713122.6 | \n",
       "| 1091530.1 | \n",
       "|  598292.3 | \n",
       "|  293002.1 | \n",
       "|  672521.8 | \n",
       "|  465322.3 | \n",
       "|  487710.7 | \n",
       "|  514497.2 | \n",
       "|  494581.5 | \n",
       "|  560696.2 | \n",
       "|  863922.5 | \n",
       "|  789416.0 | \n",
       "|  274862.3 | \n",
       "|  775193.0 | \n",
       "|  261613.1 | \n",
       "|  668550.1 | \n",
       "|  316010.4 | \n",
       "|  470781.9 | \n",
       "|  532786.5 | \n",
       "|  747410.8 | \n",
       "|  352162.4 | \n",
       "| 1095027.2 | \n",
       "|  278275.8 | \n",
       "|  418288.1 | \n",
       "|  507958.3 | \n",
       "| ... | \n",
       "|  726986.0 | \n",
       "|  479246.3 | \n",
       "|  312607.9 | \n",
       "|  238101.4 | \n",
       "|  621162.1 | \n",
       "|  958432.5 | \n",
       "|  873222.1 | \n",
       "|  886427.5 | \n",
       "|  736645.2 | \n",
       "|  465986.0 | \n",
       "|  244490.9 | \n",
       "| 1354045.7 | \n",
       "|  705898.0 | \n",
       "| 1257362.0 | \n",
       "|  850888.5 | \n",
       "|  267058.7 | \n",
       "|  573292.7 | \n",
       "|  582154.0 | \n",
       "|  393459.9 | \n",
       "|  651555.5 | \n",
       "|  981590.3 | \n",
       "|  847612.3 | \n",
       "|  477266.0 | \n",
       "|  362917.0 | \n",
       "|  163434.5 | \n",
       "| 1119749.8 | \n",
       "|  677838.7 | \n",
       "|  682087.4 | \n",
       "|  585579.3 | \n",
       "|  216559.2 | \n",
       "\n",
       "\n"
      ],
      "text/plain": [
       "      [,1]     \n",
       " [1,]  366651.4\n",
       " [2,]  762662.4\n",
       " [3,]  386312.1\n",
       " [4,]  636989.7\n",
       " [5,]  269618.0\n",
       " [6,]  713122.6\n",
       " [7,] 1091530.1\n",
       " [8,]  598292.3\n",
       " [9,]  293002.1\n",
       "[10,]  672521.8\n",
       "[11,]  465322.3\n",
       "[12,]  487710.7\n",
       "[13,]  514497.2\n",
       "[14,]  494581.5\n",
       "[15,]  560696.2\n",
       "[16,]  863922.5\n",
       "[17,]  789416.0\n",
       "[18,]  274862.3\n",
       "[19,]  775193.0\n",
       "[20,]  261613.1\n",
       "[21,]  668550.1\n",
       "[22,]  316010.4\n",
       "[23,]  470781.9\n",
       "[24,]  532786.5\n",
       "[25,]  747410.8\n",
       "[26,]  352162.4\n",
       "[27,] 1095027.2\n",
       "[28,]  278275.8\n",
       "[29,]  418288.1\n",
       "[30,]  507958.3\n",
       "[31,] ...      \n",
       "[32,]  726986.0\n",
       "[33,]  479246.3\n",
       "[34,]  312607.9\n",
       "[35,]  238101.4\n",
       "[36,]  621162.1\n",
       "[37,]  958432.5\n",
       "[38,]  873222.1\n",
       "[39,]  886427.5\n",
       "[40,]  736645.2\n",
       "[41,]  465986.0\n",
       "[42,]  244490.9\n",
       "[43,] 1354045.7\n",
       "[44,]  705898.0\n",
       "[45,] 1257362.0\n",
       "[46,]  850888.5\n",
       "[47,]  267058.7\n",
       "[48,]  573292.7\n",
       "[49,]  582154.0\n",
       "[50,]  393459.9\n",
       "[51,]  651555.5\n",
       "[52,]  981590.3\n",
       "[53,]  847612.3\n",
       "[54,]  477266.0\n",
       "[55,]  362917.0\n",
       "[56,]  163434.5\n",
       "[57,] 1119749.8\n",
       "[58,]  677838.7\n",
       "[59,]  682087.4\n",
       "[60,]  585579.3\n",
       "[61,]  216559.2"
      ]
     },
     "metadata": {},
     "output_type": "display_data"
    }
   ],
   "source": [
    "test_prediction_2 <- predict_output(matrix_test$feature_matrix,weight_2)\n",
    "test_prediction_2"
   ]
  },
  {
   "cell_type": "markdown",
   "metadata": {},
   "source": [
    "**Quiz Question: What is the predicted price for the 1st house in the TEST data set for model 2 (round to nearest dollar)?**"
   ]
  },
  {
   "cell_type": "code",
   "execution_count": 20,
   "metadata": {
    "collapsed": false
   },
   "outputs": [
    {
     "data": {
      "text/html": [
       "366651.411629494"
      ],
      "text/latex": [
       "366651.411629494"
      ],
      "text/markdown": [
       "366651.411629494"
      ],
      "text/plain": [
       "[1] 366651.4"
      ]
     },
     "metadata": {},
     "output_type": "display_data"
    }
   ],
   "source": [
    "test_prediction_2[1]"
   ]
  },
  {
   "cell_type": "markdown",
   "metadata": {},
   "source": [
    "What is the actual price for the 1st house in the test data set?"
   ]
  },
  {
   "cell_type": "code",
   "execution_count": 21,
   "metadata": {
    "collapsed": false
   },
   "outputs": [
    {
     "data": {
      "text/html": [
       "310000"
      ],
      "text/latex": [
       "310000"
      ],
      "text/markdown": [
       "310000"
      ],
      "text/plain": [
       "[1] 310000"
      ]
     },
     "metadata": {},
     "output_type": "display_data"
    }
   ],
   "source": [
    "matrix_test$output_matrix[1]"
   ]
  },
  {
   "cell_type": "markdown",
   "metadata": {},
   "source": [
    "**Quiz Question: Which estimate was closer to the true price for the 1st house on the TEST data set, model 1 or model 2?**"
   ]
  },
  {
   "cell_type": "markdown",
   "metadata": {},
   "source": [
    "Now use your predictions and the output to compute the RSS for model 2 on TEST data."
   ]
  },
  {
   "cell_type": "code",
   "execution_count": 22,
   "metadata": {
    "collapsed": false
   },
   "outputs": [
    {
     "data": {
      "text/html": [
       "270263443629804"
      ],
      "text/latex": [
       "270263443629804"
      ],
      "text/markdown": [
       "270263443629804"
      ],
      "text/plain": [
       "[1] 2.702634e+14"
      ]
     },
     "metadata": {},
     "output_type": "display_data"
    }
   ],
   "source": [
    "test_residual <- test_prediction_2 - matrix_test$output_matrix\n",
    "test_RSS = sum(test_residual*test_residual)\n",
    "test_RSS"
   ]
  },
  {
   "cell_type": "markdown",
   "metadata": {},
   "source": [
    "**Quiz Question: Which model (1 or 2) has lowest RSS on all of the TEST data? **"
   ]
  },
  {
   "cell_type": "markdown",
   "metadata": {},
   "source": [
    "Model 2 has the lowest RSS"
   ]
  },
  {
   "cell_type": "code",
   "execution_count": null,
   "metadata": {
    "collapsed": true
   },
   "outputs": [],
   "source": []
  }
 ],
 "metadata": {
  "kernelspec": {
   "display_name": "R",
   "language": "R",
   "name": "ir"
  },
  "language_info": {
   "codemirror_mode": "r",
   "file_extension": ".r",
   "mimetype": "text/x-r-source",
   "name": "R",
   "pygments_lexer": "r",
   "version": "3.3.2"
  }
 },
 "nbformat": 4,
 "nbformat_minor": 2
}
