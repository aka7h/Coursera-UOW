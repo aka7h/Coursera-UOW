{
 "cells": [
  {
   "cell_type": "code",
   "execution_count": 2,
   "metadata": {
    "collapsed": true
   },
   "outputs": [],
   "source": [
    "train <- read.csv('kc_house_train_data.csv', header = TRUE)\n",
    "test <- read.csv('kc_house_test_data.csv', header = TRUE)"
   ]
  },
  {
   "cell_type": "code",
   "execution_count": 4,
   "metadata": {
    "collapsed": true
   },
   "outputs": [],
   "source": [
    "#example_features <- c('sqft_living','bedrooms','bathrooms')\n",
    "example_formula <- price~sqft_living+bedrooms+bathrooms\n",
    "example.model <- lm(example_formula, train)"
   ]
  },
  {
   "cell_type": "code",
   "execution_count": 5,
   "metadata": {
    "collapsed": false
   },
   "outputs": [
    {
     "data": {
      "text/html": [
       "<dl class=dl-horizontal>\n",
       "\t<dt>(Intercept)</dt>\n",
       "\t\t<dd>87912.8658149464</dd>\n",
       "\t<dt>sqft_living</dt>\n",
       "\t\t<dd>315.406690615507</dd>\n",
       "\t<dt>bedrooms</dt>\n",
       "\t\t<dd>-65081.8871158774</dd>\n",
       "\t<dt>bathrooms</dt>\n",
       "\t\t<dd>6942.16598636951</dd>\n",
       "</dl>\n"
      ],
      "text/latex": [
       "\\begin{description*}\n",
       "\\item[(Intercept)] 87912.8658149464\n",
       "\\item[sqft\\textbackslash{}\\_living] 315.406690615507\n",
       "\\item[bedrooms] -65081.8871158774\n",
       "\\item[bathrooms] 6942.16598636951\n",
       "\\end{description*}\n"
      ],
      "text/markdown": [
       "(Intercept)\n",
       ":   87912.8658149464sqft_living\n",
       ":   315.406690615507bedrooms\n",
       ":   -65081.8871158774bathrooms\n",
       ":   6942.16598636951\n",
       "\n"
      ],
      "text/plain": [
       "(Intercept) sqft_living    bedrooms   bathrooms \n",
       " 87912.8658    315.4067 -65081.8871   6942.1660 "
      ]
     },
     "metadata": {},
     "output_type": "display_data"
    }
   ],
   "source": [
    "example.model$coefficients"
   ]
  },
  {
   "cell_type": "code",
   "execution_count": 8,
   "metadata": {
    "collapsed": false
   },
   "outputs": [
    {
     "data": {
      "text/html": [
       "<strong>1:</strong> 271789.265379982"
      ],
      "text/latex": [
       "\\textbf{1:} 271789.265379982"
      ],
      "text/markdown": [
       "**1:** 271789.265379982"
      ],
      "text/plain": [
       "       1 \n",
       "271789.3 "
      ]
     },
     "metadata": {},
     "output_type": "display_data"
    }
   ],
   "source": [
    "example.predictions <- predict(example.model, train)\n",
    "example.predictions[1]"
   ]
  },
  {
   "cell_type": "code",
   "execution_count": 11,
   "metadata": {
    "collapsed": true
   },
   "outputs": [],
   "source": [
    "#Compute RSS\n",
    "get_residual_sum_of_square<- function(model,data,outcome){\n",
    "    #Predicting the output\n",
    "    prediction <- predict(model, data)\n",
    "    #Computing the residul errors\n",
    "    residual_error <- outcome - prediction\n",
    "    #then square and add them\n",
    "    rss <- sum(residual_error^2)\n",
    "    return(rss)\n",
    "}"
   ]
  },
  {
   "cell_type": "code",
   "execution_count": 13,
   "metadata": {
    "collapsed": false
   },
   "outputs": [
    {
     "data": {
      "text/html": [
       "273761940583134"
      ],
      "text/latex": [
       "273761940583134"
      ],
      "text/markdown": [
       "273761940583134"
      ],
      "text/plain": [
       "[1] 2.737619e+14"
      ]
     },
     "metadata": {},
     "output_type": "display_data"
    }
   ],
   "source": [
    "rss_example_train <- get_residual_sum_of_square(example.model,test,test$price)\n",
    "rss_example_train"
   ]
  },
  {
   "cell_type": "code",
   "execution_count": 30,
   "metadata": {
    "collapsed": false
   },
   "outputs": [],
   "source": [
    "#Create some features\n",
    "train$bedrooms_squared <- train$bedrooms^2\n",
    "train$bed_bath_rooms <- train$bedrooms*train$bathrooms\n",
    "train$log_sqft_living <- log(train$sqft_living)\n",
    "train$lat_plus_long <- train$lat+train$long\n",
    "\n",
    "test$bedrooms_squared <- test$bedrooms^2\n",
    "test$bed_bath_rooms <- test$bedrooms*test$bathrooms\n",
    "test$log_sqft_living <- log(test$sqft_living)\n",
    "test$lat_plus_long <- test$lat+test$long"
   ]
  },
  {
   "cell_type": "code",
   "execution_count": 17,
   "metadata": {
    "collapsed": false
   },
   "outputs": [
    {
     "data": {
      "text/html": [
       "12.4466777015843"
      ],
      "text/latex": [
       "12.4466777015843"
      ],
      "text/markdown": [
       "12.4466777015843"
      ],
      "text/plain": [
       "[1] 12.44668"
      ]
     },
     "metadata": {},
     "output_type": "display_data"
    },
    {
     "data": {
      "text/html": [
       "7.50390163159139"
      ],
      "text/latex": [
       "7.50390163159139"
      ],
      "text/markdown": [
       "7.50390163159139"
      ],
      "text/plain": [
       "[1] 7.503902"
      ]
     },
     "metadata": {},
     "output_type": "display_data"
    },
    {
     "data": {
      "text/html": [
       "7.55027467964594"
      ],
      "text/latex": [
       "7.55027467964594"
      ],
      "text/markdown": [
       "7.55027467964594"
      ],
      "text/plain": [
       "[1] 7.550275"
      ]
     },
     "metadata": {},
     "output_type": "display_data"
    },
    {
     "data": {
      "text/html": [
       "-74.6533335540317"
      ],
      "text/latex": [
       "-74.6533335540317"
      ],
      "text/markdown": [
       "-74.6533335540317"
      ],
      "text/plain": [
       "[1] -74.65333"
      ]
     },
     "metadata": {},
     "output_type": "display_data"
    }
   ],
   "source": [
    "#what is the mean for all 4 varaibles\n",
    "mean(test$bedrooms_squared)\n",
    "mean(test$bed_bath_rooms)\n",
    "mean(test$log_sqft_living)\n",
    "mean(test$lat_plus_long)"
   ]
  },
  {
   "cell_type": "code",
   "execution_count": 36,
   "metadata": {
    "collapsed": true
   },
   "outputs": [],
   "source": [
    "#Learning Multiple models\n",
    "model.1.formula <- price~sqft_living+bathrooms+bedrooms+lat+long\n",
    "model.2.formula <- price~sqft_living+bedrooms+bathrooms+lat+long+bed_bath_rooms\n",
    "model.3.formula <- price~sqft_living+bedrooms+bathrooms+lat+long+bed_bath_rooms+bedrooms_squared+log_sqft_living+lat_plus_long"
   ]
  },
  {
   "cell_type": "code",
   "execution_count": 37,
   "metadata": {
    "collapsed": false
   },
   "outputs": [
    {
     "data": {
      "text/html": [
       "<dl class=dl-horizontal>\n",
       "\t<dt>(Intercept)</dt>\n",
       "\t\t<dd>-69075726.7925689</dd>\n",
       "\t<dt>sqft_living</dt>\n",
       "\t\t<dd>312.258646273228</dd>\n",
       "\t<dt>bathrooms</dt>\n",
       "\t\t<dd>15706.7420827384</dd>\n",
       "\t<dt>bedrooms</dt>\n",
       "\t\t<dd>-59586.5331536131</dd>\n",
       "\t<dt>lat</dt>\n",
       "\t\t<dd>658619.263930524</dd>\n",
       "\t<dt>long</dt>\n",
       "\t\t<dd>-309374.35126822</dd>\n",
       "</dl>\n"
      ],
      "text/latex": [
       "\\begin{description*}\n",
       "\\item[(Intercept)] -69075726.7925689\n",
       "\\item[sqft\\textbackslash{}\\_living] 312.258646273228\n",
       "\\item[bathrooms] 15706.7420827384\n",
       "\\item[bedrooms] -59586.5331536131\n",
       "\\item[lat] 658619.263930524\n",
       "\\item[long] -309374.35126822\n",
       "\\end{description*}\n"
      ],
      "text/markdown": [
       "(Intercept)\n",
       ":   -69075726.7925689sqft_living\n",
       ":   312.258646273228bathrooms\n",
       ":   15706.7420827384bedrooms\n",
       ":   -59586.5331536131lat\n",
       ":   658619.263930524long\n",
       ":   -309374.35126822\n",
       "\n"
      ],
      "text/plain": [
       "  (Intercept)   sqft_living     bathrooms      bedrooms           lat \n",
       "-6.907573e+07  3.122586e+02  1.570674e+04 -5.958653e+04  6.586193e+05 \n",
       "         long \n",
       "-3.093744e+05 "
      ]
     },
     "metadata": {},
     "output_type": "display_data"
    },
    {
     "data": {
      "text/html": [
       "<dl class=dl-horizontal>\n",
       "\t<dt>(Intercept)</dt>\n",
       "\t\t<dd>-66867968.8710775</dd>\n",
       "\t<dt>sqft_living</dt>\n",
       "\t\t<dd>306.610053459003</dd>\n",
       "\t<dt>bedrooms</dt>\n",
       "\t\t<dd>-113446.368070204</dd>\n",
       "\t<dt>bathrooms</dt>\n",
       "\t\t<dd>-71461.3082927578</dd>\n",
       "\t<dt>lat</dt>\n",
       "\t\t<dd>654844.629503313</dd>\n",
       "\t<dt>long</dt>\n",
       "\t\t<dd>-294298.969138102</dd>\n",
       "\t<dt>bed_bath_rooms</dt>\n",
       "\t\t<dd>25579.6520007522</dd>\n",
       "</dl>\n"
      ],
      "text/latex": [
       "\\begin{description*}\n",
       "\\item[(Intercept)] -66867968.8710775\n",
       "\\item[sqft\\textbackslash{}\\_living] 306.610053459003\n",
       "\\item[bedrooms] -113446.368070204\n",
       "\\item[bathrooms] -71461.3082927578\n",
       "\\item[lat] 654844.629503313\n",
       "\\item[long] -294298.969138102\n",
       "\\item[bed\\textbackslash{}\\_bath\\textbackslash{}\\_rooms] 25579.6520007522\n",
       "\\end{description*}\n"
      ],
      "text/markdown": [
       "(Intercept)\n",
       ":   -66867968.8710775sqft_living\n",
       ":   306.610053459003bedrooms\n",
       ":   -113446.368070204bathrooms\n",
       ":   -71461.3082927578lat\n",
       ":   654844.629503313long\n",
       ":   -294298.969138102bed_bath_rooms\n",
       ":   25579.6520007522\n",
       "\n"
      ],
      "text/plain": [
       "   (Intercept)    sqft_living       bedrooms      bathrooms            lat \n",
       " -6.686797e+07   3.066101e+02  -1.134464e+05  -7.146131e+04   6.548446e+05 \n",
       "          long bed_bath_rooms \n",
       " -2.942990e+05   2.557965e+04 "
      ]
     },
     "metadata": {},
     "output_type": "display_data"
    },
    {
     "data": {
      "text/html": [
       "<dl class=dl-horizontal>\n",
       "\t<dt>(Intercept)</dt>\n",
       "\t\t<dd>-62036084.9860949</dd>\n",
       "\t<dt>sqft_living</dt>\n",
       "\t\t<dd>529.42281964654</dd>\n",
       "\t<dt>bedrooms</dt>\n",
       "\t\t<dd>34514.2295779781</dd>\n",
       "\t<dt>bathrooms</dt>\n",
       "\t\t<dd>67060.7813189166</dd>\n",
       "\t<dt>lat</dt>\n",
       "\t\t<dd>661420.510873967</dd>\n",
       "\t<dt>long</dt>\n",
       "\t\t<dd>-279415.810854548</dd>\n",
       "\t<dt>bed_bath_rooms</dt>\n",
       "\t\t<dd>-8570.50439463213</dd>\n",
       "\t<dt>bedrooms_squared</dt>\n",
       "\t\t<dd>-6788.58667033846</dd>\n",
       "\t<dt>log_sqft_living</dt>\n",
       "\t\t<dd>-561831.484075515</dd>\n",
       "\t<dt>lat_plus_long</dt>\n",
       "\t\t<dd>NA</dd>\n",
       "</dl>\n"
      ],
      "text/latex": [
       "\\begin{description*}\n",
       "\\item[(Intercept)] -62036084.9860949\n",
       "\\item[sqft\\textbackslash{}\\_living] 529.42281964654\n",
       "\\item[bedrooms] 34514.2295779781\n",
       "\\item[bathrooms] 67060.7813189166\n",
       "\\item[lat] 661420.510873967\n",
       "\\item[long] -279415.810854548\n",
       "\\item[bed\\textbackslash{}\\_bath\\textbackslash{}\\_rooms] -8570.50439463213\n",
       "\\item[bedrooms\\textbackslash{}\\_squared] -6788.58667033846\n",
       "\\item[log\\textbackslash{}\\_sqft\\textbackslash{}\\_living] -561831.484075515\n",
       "\\item[lat\\textbackslash{}\\_plus\\textbackslash{}\\_long] NA\n",
       "\\end{description*}\n"
      ],
      "text/markdown": [
       "(Intercept)\n",
       ":   -62036084.9860949sqft_living\n",
       ":   529.42281964654bedrooms\n",
       ":   34514.2295779781bathrooms\n",
       ":   67060.7813189166lat\n",
       ":   661420.510873967long\n",
       ":   -279415.810854548bed_bath_rooms\n",
       ":   -8570.50439463213bedrooms_squared\n",
       ":   -6788.58667033846log_sqft_living\n",
       ":   -561831.484075515lat_plus_long\n",
       ":   NA\n",
       "\n"
      ],
      "text/plain": [
       "     (Intercept)      sqft_living         bedrooms        bathrooms \n",
       "   -6.203608e+07     5.294228e+02     3.451423e+04     6.706078e+04 \n",
       "             lat             long   bed_bath_rooms bedrooms_squared \n",
       "    6.614205e+05    -2.794158e+05    -8.570504e+03    -6.788587e+03 \n",
       " log_sqft_living    lat_plus_long \n",
       "   -5.618315e+05               NA "
      ]
     },
     "metadata": {},
     "output_type": "display_data"
    }
   ],
   "source": [
    "model.1 <- lm(model.1.formula, train)\n",
    "model.2 <- lm(model.2.formula, train)\n",
    "model.3 <- lm(model.3.formula, train)\n",
    "model.1$coefficients\n",
    "model.2$coefficients\n",
    "model.3$coefficients\n",
    "#the coefficient of lat_plus_long in model.3 is NA because of Colinearity. It is linearly dependent on the other features\n"
   ]
  },
  {
   "cell_type": "code",
   "execution_count": 25,
   "metadata": {
    "collapsed": false
   },
   "outputs": [
    {
     "data": {
      "text/html": [
       "<strong>bathrooms:</strong> 15706.7420827384"
      ],
      "text/latex": [
       "\\textbf{bathrooms:} 15706.7420827384"
      ],
      "text/markdown": [
       "**bathrooms:** 15706.7420827384"
      ],
      "text/plain": [
       "bathrooms \n",
       " 15706.74 "
      ]
     },
     "metadata": {},
     "output_type": "display_data"
    },
    {
     "data": {
      "text/html": [
       "<strong>bathrooms:</strong> -71461.3082927578"
      ],
      "text/latex": [
       "\\textbf{bathrooms:} -71461.3082927578"
      ],
      "text/markdown": [
       "**bathrooms:** -71461.3082927578"
      ],
      "text/plain": [
       "bathrooms \n",
       "-71461.31 "
      ]
     },
     "metadata": {},
     "output_type": "display_data"
    }
   ],
   "source": [
    "#6 sign for coefficent for bathrooms in model 1?\n",
    "model.1$coefficients[3] #POSITIVE\n",
    "model.2$coefficients[4] #Negative"
   ]
  },
  {
   "cell_type": "code",
   "execution_count": 40,
   "metadata": {
    "collapsed": false
   },
   "outputs": [
    {
     "name": "stderr",
     "output_type": "stream",
     "text": [
      "Warning message in predict.lm(model, data):\n",
      "\"prediction from a rank-deficient fit may be misleading\""
     ]
    }
   ],
   "source": [
    "#Compute multiple models\n",
    "rss.model.1.train <- get_residual_sum_of_square(model.1,train,train$price)\n",
    "rss.model.2.train <- get_residual_sum_of_square(model.2,train,train$price)\n",
    "rss.model.3.train <- get_residual_sum_of_square(model.3,train,train$price)"
   ]
  },
  {
   "cell_type": "code",
   "execution_count": 41,
   "metadata": {
    "collapsed": false
   },
   "outputs": [
    {
     "data": {
      "text/html": [
       "967879963049546"
      ],
      "text/latex": [
       "967879963049546"
      ],
      "text/markdown": [
       "967879963049546"
      ],
      "text/plain": [
       "[1] 9.6788e+14"
      ]
     },
     "metadata": {},
     "output_type": "display_data"
    },
    {
     "data": {
      "text/html": [
       "958419635074070"
      ],
      "text/latex": [
       "958419635074070"
      ],
      "text/markdown": [
       "958419635074070"
      ],
      "text/plain": [
       "[1] 9.584196e+14"
      ]
     },
     "metadata": {},
     "output_type": "display_data"
    },
    {
     "data": {
      "text/html": [
       "903436455050478"
      ],
      "text/latex": [
       "903436455050478"
      ],
      "text/markdown": [
       "903436455050478"
      ],
      "text/plain": [
       "[1] 9.034365e+14"
      ]
     },
     "metadata": {},
     "output_type": "display_data"
    }
   ],
   "source": [
    "rss.model.1.train\n",
    "rss.model.2.train\n",
    "rss.model.3.train"
   ]
  },
  {
   "cell_type": "code",
   "execution_count": 42,
   "metadata": {
    "collapsed": false
   },
   "outputs": [
    {
     "name": "stderr",
     "output_type": "stream",
     "text": [
      "Warning message in predict.lm(model, data):\n",
      "\"prediction from a rank-deficient fit may be misleading\""
     ]
    }
   ],
   "source": [
    "rss.model.1.test <- get_residual_sum_of_square(model.1,test,test$price)\n",
    "rss.model.2.test <- get_residual_sum_of_square(model.2,test,test$price)\n",
    "rss.model.3.test <- get_residual_sum_of_square(model.3,test,test$price)"
   ]
  },
  {
   "cell_type": "code",
   "execution_count": 43,
   "metadata": {
    "collapsed": false
   },
   "outputs": [
    {
     "data": {
      "text/html": [
       "225500469795493"
      ],
      "text/latex": [
       "225500469795493"
      ],
      "text/markdown": [
       "225500469795493"
      ],
      "text/plain": [
       "[1] 2.255005e+14"
      ]
     },
     "metadata": {},
     "output_type": "display_data"
    },
    {
     "data": {
      "text/html": [
       "223377462976469"
      ],
      "text/latex": [
       "223377462976469"
      ],
      "text/markdown": [
       "223377462976469"
      ],
      "text/plain": [
       "[1] 2.233775e+14"
      ]
     },
     "metadata": {},
     "output_type": "display_data"
    },
    {
     "data": {
      "text/html": [
       "259236319207160"
      ],
      "text/latex": [
       "259236319207160"
      ],
      "text/markdown": [
       "259236319207160"
      ],
      "text/plain": [
       "[1] 2.592363e+14"
      ]
     },
     "metadata": {},
     "output_type": "display_data"
    }
   ],
   "source": [
    "rss.model.1.test\n",
    "rss.model.2.test\n",
    "rss.model.3.test"
   ]
  }
 ],
 "metadata": {
  "kernelspec": {
   "display_name": "R",
   "language": "R",
   "name": "ir"
  },
  "language_info": {
   "codemirror_mode": "r",
   "file_extension": ".r",
   "mimetype": "text/x-r-source",
   "name": "R",
   "pygments_lexer": "r",
   "version": "3.3.2"
  }
 },
 "nbformat": 4,
 "nbformat_minor": 2
}
